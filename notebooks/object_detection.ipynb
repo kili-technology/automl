{
  "cells": [
    {
      "cell_type": "markdown",
      "metadata": {},
      "source": [
        "[![Open In Colab](https://colab.research.google.com/assets/colab-badge.svg)](https://colab.research.google.com/github/kili-technology/automl/blob/main/notebooks/object_detection.ipynb)\n"
      ]
    },
    {
      "cell_type": "markdown",
      "metadata": {
        "id": "zYG5RYRUBaA7"
      },
      "source": [
        "# Objet Detection Using AutoML"
      ]
    },
    {
      "cell_type": "markdown",
      "metadata": {
        "id": "GpmLGl2pBaA_"
      },
      "source": [
        "In this notebook, we will see how we can simply create an object detection model with AutoML to pre-annotate our dataset on the [Kili Platform](https://cloud.kili-technology.com/label/)."
      ]
    },
    {
      "cell_type": "markdown",
      "metadata": {},
      "source": [
        "## Setup API key"
      ]
    },
    {
      "cell_type": "markdown",
      "metadata": {},
      "source": [
        "We first setup the api key and automl path."
      ]
    },
    {
      "cell_type": "code",
      "execution_count": null,
      "metadata": {},
      "outputs": [],
      "source": [
        "from getpass import getpass"
      ]
    },
    {
      "cell_type": "markdown",
      "metadata": {},
      "source": [
        "You can get your API key from the Kili platform and setup your environment variables."
      ]
    },
    {
      "cell_type": "code",
      "execution_count": null,
      "metadata": {},
      "outputs": [],
      "source": [
        "KILI_URL=\"https://cloud.kili-technology.com/\"  # If you are not using Kili SaaS, change the url to your configuration\n",
        "\n",
        "api_endpoint = f\"{KILI_URL}api/label/v2/graphql\""
      ]
    },
    {
      "cell_type": "markdown",
      "metadata": {},
      "source": [
        "You can get your API key from the [Kili platform](https://cloud.kili-technology.com/label/my-account/api-key) and setup your environment variables. If you are working locally, please set your environment variables in a `.env` file. Also, if notebook is used on Colab, the Python path is redirected. "
      ]
    },
    {
      "cell_type": "code",
      "execution_count": null,
      "metadata": {},
      "outputs": [],
      "source": [
        "%%capture\n",
        "!pip install python-dotenv"
      ]
    },
    {
      "cell_type": "code",
      "execution_count": null,
      "metadata": {},
      "outputs": [],
      "source": [
        "%reload_ext dotenv\n",
        "%dotenv"
      ]
    },
    {
      "cell_type": "code",
      "execution_count": null,
      "metadata": {},
      "outputs": [],
      "source": [
        "from IPython import get_ipython\n",
        "import os\n",
        "\n",
        "if \"google.colab\" in str(get_ipython()):\n",
        "    os.environ[\"PYTHONPATH\"] += \":/content/automl/\"\n",
        "    os.environ[\"HOME\"] = \"/content/drive/MyDrive/\"\n",
        "    api_key = getpass(\"Add your API Key here: \")\n",
        "else:\n",
        "    api_key = os.getenv(\"KILI_API_KEY\")"
      ]
    },
    {
      "cell_type": "markdown",
      "metadata": {
        "id": "KrezIAheBaBA"
      },
      "source": [
        "## Install"
      ]
    },
    {
      "cell_type": "markdown",
      "metadata": {
        "id": "8_zB5lXPBaBA"
      },
      "source": [
        "We first follow the install procedure explained in the [README.md](https://github.com/kili-technology/automl/blob/main/README.md). "
      ]
    },
    {
      "cell_type": "code",
      "execution_count": null,
      "metadata": {
        "id": "n7gjiRZhBaBD"
      },
      "outputs": [],
      "source": [
        "!git clone https://github.com/kili-technology/automl.git"
      ]
    },
    {
      "cell_type": "code",
      "execution_count": null,
      "metadata": {
        "id": "myizMhqQBaBE"
      },
      "outputs": [],
      "source": [
        "%cd automl"
      ]
    },
    {
      "cell_type": "markdown",
      "metadata": {
        "id": "W0B2Ew9opfdW"
      },
      "source": [
        "Install the packages. This should take less than a minute. "
      ]
    },
    {
      "cell_type": "code",
      "execution_count": null,
      "metadata": {
        "id": "S3KdozTHBaBE"
      },
      "outputs": [],
      "source": [
        "%%capture\n",
        "!git submodule update --init\n",
        "!pip install torch\n",
        "!pip install -e ."
      ]
    },
    {
      "cell_type": "markdown",
      "metadata": {
        "id": "sUgY-iz6BaBI"
      },
      "source": [
        "## Imports"
      ]
    },
    {
      "cell_type": "code",
      "execution_count": null,
      "metadata": {
        "id": "y3u_I9GABaBJ"
      },
      "outputs": [],
      "source": [
        "from tqdm.autonotebook import tqdm\n",
        "\n",
        "from kili.client import Kili"
      ]
    },
    {
      "cell_type": "markdown",
      "metadata": {
        "id": "5sxrmNqCBaBJ"
      },
      "source": [
        "## Setup a mock Kili project"
      ]
    },
    {
      "cell_type": "markdown",
      "metadata": {
        "id": "mM-vWnpFBaBK"
      },
      "source": [
        "Setup the kili connection."
      ]
    },
    {
      "cell_type": "code",
      "execution_count": null,
      "metadata": {
        "id": "3piQsuK-BaBK"
      },
      "outputs": [],
      "source": [
        "kili = Kili(api_key=api_key, api_endpoint=api_endpoint)"
      ]
    },
    {
      "cell_type": "markdown",
      "metadata": {
        "id": "pz8CpvSriJJs"
      },
      "source": [
        "### Create the project"
      ]
    },
    {
      "cell_type": "markdown",
      "metadata": {
        "id": "va3D4FVP68Er"
      },
      "source": [
        "Our objective is to label plastic objects in rivers following the [Kili's Community Challenge](https://kili-technology.com/blog/kili-s-community-challenge-plastic-in-river-dataset)."
      ]
    },
    {
      "cell_type": "markdown",
      "metadata": {
        "id": "ORS2gEYd7YYE"
      },
      "source": [
        "First, we setup the project with the appropriate JSON interface settings. There will be 4 classes of objects to detect: PLASTIC_BAG, PLASTIC_BOTTLE, OTHER_PLASTIC_WASTE and NON_PLASTIC_WASTE."
      ]
    },
    {
      "cell_type": "code",
      "execution_count": null,
      "metadata": {
        "id": "qua2QqZiBaBL"
      },
      "outputs": [],
      "source": [
        "json_interface = {\n",
        "    \"jobs\": {\n",
        "        \"OBJECT_DETECTION_JOB\": {\n",
        "            \"mlTask\": \"OBJECT_DETECTION\",\n",
        "            \"tools\": [\n",
        "                \"rectangle\"\n",
        "            ],\n",
        "            \"instruction\": \"Can you find plastic in the river?\",\n",
        "            \"required\": 1,\n",
        "            \"isChild\": False,\n",
        "            \"content\": {\n",
        "                \"categories\": {\n",
        "                    \"PLASTIC_BAG\": {\n",
        "                        \"name\": \"Plastic bag\",\n",
        "                        \"children\": []\n",
        "                    },\n",
        "                    \"PLASTIC_BOTTLE\": {\n",
        "                        \"name\": \"Plastic bottle\",\n",
        "                        \"children\": []\n",
        "                    },\n",
        "                    \"OTHER_PLASTIC_WASTE\": {\n",
        "                        \"name\": \"Other plastic waste\",\n",
        "                        \"children\": []\n",
        "                    },\n",
        "                    \"NON_PLASTIC_WASTE\": {\n",
        "                        \"name\": \"Non plastic waste\",\n",
        "                        \"children\": []\n",
        "                    },\n",
        "                },\n",
        "                \"input\": \"radio\"\n",
        "            }\n",
        "        }\n",
        "    }\n",
        "}"
      ]
    },
    {
      "cell_type": "code",
      "execution_count": null,
      "metadata": {
        "id": "aHEB9NF5BaBL"
      },
      "outputs": [],
      "source": [
        "project = kili.create_project(\n",
        "        title=\"Plastic Detection in Rivers\",\n",
        "        description=\"Detect plastic in rivers\",\n",
        "        input_type=\"IMAGE\",\n",
        "        json_interface=json_interface\n",
        ")"
      ]
    },
    {
      "cell_type": "code",
      "execution_count": null,
      "metadata": {},
      "outputs": [],
      "source": [
        "project_id = project[\"id\"]"
      ]
    },
    {
      "cell_type": "markdown",
      "metadata": {
        "id": "OnFCYRs0fxU-"
      },
      "source": [
        "### Add assets"
      ]
    },
    {
      "cell_type": "markdown",
      "metadata": {
        "id": "wWitz7dk7zP6"
      },
      "source": [
        "Next, we add some images to our project that show rivers contaminated with plastic waste."
      ]
    },
    {
      "cell_type": "code",
      "execution_count": null,
      "metadata": {
        "id": "gdBqgt3cBaBK"
      },
      "outputs": [],
      "source": [
        "assets_to_import = [\n",
        "    {\n",
        "        \"externalId\": f\"{i}\",\n",
        "        \"content\": f\"https://storage.googleapis.com/kili-machine-learning-automl/notebooks/plastic_in_river/image_{i}.jpg\",\n",
        "        \"metadata\": {}\n",
        "    }\n",
        "    for i in range(3000)\n",
        "]"
      ]
    },
    {
      "cell_type": "code",
      "execution_count": null,
      "metadata": {
        "id": "RVF58DyE22hN"
      },
      "outputs": [],
      "source": [
        "print(assets_to_import[0][\"content\"])"
      ]
    },
    {
      "cell_type": "markdown",
      "metadata": {
        "id": "V0rJ5DUcBaBL"
      },
      "source": [
        "Now we send the data to our Kili project."
      ]
    },
    {
      "cell_type": "code",
      "execution_count": null,
      "metadata": {
        "id": "j6eKQeZ6fzOG"
      },
      "outputs": [],
      "source": [
        "external_id_array = [a.get(\"externalId\") for a in assets_to_import]\n",
        "content_array = [a.get(\"content\") for a in assets_to_import]\n",
        "json_metadata_array = [a.get(\"metadata\") for a in assets_to_import]\n",
        "kili.append_many_to_dataset(project_id=project_id, \n",
        "                            content_array=content_array,\n",
        "                            external_id_array=external_id_array, \n",
        "                            json_metadata_array=json_metadata_array)"
      ]
    },
    {
      "cell_type": "markdown",
      "metadata": {
        "id": "IhfaOkxrBaBM"
      },
      "source": [
        "### Add labels to assets"
      ]
    },
    {
      "cell_type": "markdown",
      "metadata": {
        "id": "L2tIiWEPHTo4"
      },
      "source": [
        "We add labels to half of the data to simulate a project where we haven't labeled much data and we want to predict the labels of the unlabeled data. "
      ]
    },
    {
      "cell_type": "code",
      "execution_count": null,
      "metadata": {
        "id": "-1k9W2oZ0Cpv"
      },
      "outputs": [],
      "source": [
        "%%capture\n",
        "!wget https://storage.googleapis.com/kili-machine-learning-automl/notebooks/plastic_in_river/annotations.zip\n",
        "!unzip annotations.zip -d ./annotations"
      ]
    },
    {
      "cell_type": "code",
      "execution_count": null,
      "metadata": {
        "id": "kYrRFwm345gO"
      },
      "outputs": [],
      "source": [
        "CATEGORIES = [\n",
        "    \"PLASTIC_BAG\",\n",
        "    \"PLASTIC_BOTTLE\",\n",
        "    \"OTHER_PLASTIC_WASTE\",\n",
        "    \"NON_PLASTIC_WASTE\"\n",
        "]\n",
        "\n",
        "def get_bboxes_from_lines(lines):\n",
        "    bboxes, categories = [], []\n",
        "    bboxes = []\n",
        "    for line in lines:\n",
        "        half_width = line[3] / 2\n",
        "        half_height = line[4] / 2\n",
        "        bboxes.append(\n",
        "            {\n",
        "                \"boundingPoly\": [{\n",
        "                    \"normalizedVertices\": [\n",
        "                        {\"x\": line[1] - half_width, \"y\": line[2] + half_height},\n",
        "                        {\"x\": line[1] - half_width, \"y\": line[2] - half_height},\n",
        "                        {\"x\": line[1] + half_width, \"y\": line[2] - half_height},\n",
        "                        {\"x\": line[1] + half_width, \"y\": line[2] + half_height},\n",
        "                    ]}\n",
        "                ],\n",
        "                \"categories\": [{ \"name\": CATEGORIES[int(line[0])] }],\n",
        "                \"type\": \"rectangle\",\n",
        "            }\n",
        "        )\n",
        "    return bboxes"
      ]
    },
    {
      "cell_type": "code",
      "execution_count": null,
      "metadata": {
        "id": "RVa0uu9QIk2u"
      },
      "outputs": [],
      "source": [
        "asset_ids = kili.assets(project_id=project_id, fields=[\"id\", \"externalId\"], first=1500)"
      ]
    },
    {
      "cell_type": "code",
      "execution_count": null,
      "metadata": {
        "id": "2L6UIq93BaBM"
      },
      "outputs": [],
      "source": [
        "for asset_id in tqdm(asset_ids):\n",
        "    external_id = int(asset_id[\"externalId\"])\n",
        "    with open(f\"annotations/annotation_{external_id}.txt\", \"r\") as f:\n",
        "        lines = [line.split() for line in f.readlines()]\n",
        "        lines = [[float(x) for x in line] for line in lines]\n",
        "\n",
        "    kili_bounding_boxes = get_bboxes_from_lines(lines)\n",
        "    json_response = {\n",
        "        \"OBJECT_DETECTION_JOB\": {\n",
        "            \"annotations\": kili_bounding_boxes\n",
        "        }\n",
        "    }\n",
        "    kili.append_to_labels(label_asset_id=asset_id[\"id\"],\n",
        "                          json_response=json_response)"
      ]
    },
    {
      "cell_type": "markdown",
      "metadata": {
        "id": "dd3qerFeO7Rt"
      },
      "source": [
        "You can now click on the following link to see the assets in your project:"
      ]
    },
    {
      "cell_type": "code",
      "execution_count": null,
      "metadata": {
        "id": "r31azkPdO66e"
      },
      "outputs": [],
      "source": [
        "print(f\"{KILI_URL}label/projects/{project_id}/menu/queue?currentPage=1&pageSize=20\")"
      ]
    },
    {
      "cell_type": "markdown",
      "metadata": {
        "id": "0tOtfBaABaBN"
      },
      "source": [
        "## Training the object detection NN with Kiliautoml"
      ]
    },
    {
      "cell_type": "markdown",
      "metadata": {
        "id": "iqfddWnUG_R1"
      },
      "source": [
        "The following command will automatically download the labeled data in your Kili project. Then, it will choose the right model for your task, train it with this data and save it locally."
      ]
    },
    {
      "cell_type": "code",
      "execution_count": null,
      "metadata": {
        "id": "-uwLPjF9BaBN"
      },
      "outputs": [],
      "source": [
        "!kiliautoml train \\\n",
        "    --api-key $api_key \\\n",
        "    --project-id $project_id \\\n",
        "    --epochs 30"
      ]
    },
    {
      "cell_type": "markdown",
      "metadata": {
        "id": "HaNQ_Zag7r0O"
      },
      "source": [
        "The results are not excellent so it would be good to have more labels to train our model. We can use the predictions of this model to facilitate the annotation."
      ]
    },
    {
      "cell_type": "markdown",
      "metadata": {
        "id": "fda-qEzgBaBN"
      },
      "source": [
        "### Send predictions"
      ]
    },
    {
      "cell_type": "markdown",
      "metadata": {
        "id": "jMdUHgsOqQS_"
      },
      "source": [
        "Now we can use our local trained model to predict the classes of our image assets and send the prediction scores to the project on Kili. These preannotations can then be validated or corrected by annotators."
      ]
    },
    {
      "cell_type": "code",
      "execution_count": null,
      "metadata": {
        "id": "lud1i-v9BaBN"
      },
      "outputs": [],
      "source": [
        "!kiliautoml predict \\\n",
        "    --api-key $api_key \\\n",
        "    --project-id $project_id"
      ]
    },
    {
      "cell_type": "markdown",
      "metadata": {
        "id": "fyPzfujpqiXv"
      },
      "source": [
        "Now you can ckeck that your assets have predictions on [Kili](https://cloud.kili-technology.com/)!"
      ]
    },
    {
      "cell_type": "code",
      "execution_count": null,
      "metadata": {
        "id": "sgH92N1CLn55"
      },
      "outputs": [],
      "source": [
        "print(f\"{KILI_URL}label/projects/{project_id}/menu/queue?currentPage=1&pageSize=20\")"
      ]
    }
  ],
  "metadata": {
    "accelerator": "GPU",
    "colab": {
      "collapsed_sections": [],
      "name": "Copie de object_detection.ipynb",
      "provenance": []
    },
    "interpreter": {
      "hash": "449e565a27a23acd15c32e769a07661ae193905e7f288056cccc0b6a403de553"
    },
    "kernelspec": {
      "display_name": "Python 3.9.12 ('automl')",
      "language": "python",
      "name": "python3"
    },
    "language_info": {
      "codemirror_mode": {
        "name": "ipython",
        "version": 3
      },
      "file_extension": ".py",
      "mimetype": "text/x-python",
      "name": "python",
      "nbconvert_exporter": "python",
      "pygments_lexer": "ipython3",
      "version": "3.7.13"
    }
  },
  "nbformat": 4,
  "nbformat_minor": 0
}
