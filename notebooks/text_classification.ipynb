{
  "cells": [
    {
      "cell_type": "markdown",
      "metadata": {},
      "source": [
        "<a href=\"https://colab.research.google.com/github/kili-technology/automl/blob/main/notebooks/text_classification.ipynb\" target=\"_parent\"><img src=\"https://colab.research.google.com/assets/colab-badge.svg\" alt=\"Open In Colab\"/></a>"
      ]
    },
    {
      "cell_type": "markdown",
      "metadata": {
        "id": "zYG5RYRUBaA7"
      },
      "source": [
        "# Text Classification Using AutoML"
      ]
    },
    {
      "cell_type": "markdown",
      "metadata": {
        "id": "GpmLGl2pBaA_"
      },
      "source": [
        "In this notebook, we will see how we can simply create a text classification model with AutoML to pre-annotate our dataset on the [Kili Platform](https://cloud.kili-technology.com/label/)."
      ]
    },
    {
      "cell_type": "markdown",
      "metadata": {},
      "source": [
        "## Setup API key"
      ]
    },
    {
      "cell_type": "markdown",
      "metadata": {},
      "source": [
        "We first setup the api key and automl path."
      ]
    },
    {
      "cell_type": "code",
      "execution_count": null,
      "metadata": {},
      "outputs": [],
      "source": [
        "from getpass import getpass"
      ]
    },
    {
      "cell_type": "markdown",
      "metadata": {},
      "source": [
        "You can get your API key from the Kili platform and setup your environment variables."
      ]
    },
    {
      "cell_type": "code",
      "execution_count": null,
      "metadata": {},
      "outputs": [],
      "source": [
        "KILI_URL=\"https://cloud.kili-technology.com/\"  # If you are not using Kili SaaS, change the url to your configuration\n",
        "\n",
        "api_endpoint = f\"{KILI_URL}api/label/v2/graphql\""
      ]
    },
    {
      "cell_type": "markdown",
      "metadata": {},
      "source": [
        "You can get your API key from the [Kili platform](https://cloud.kili-technology.com/label/my-account/api-key) and setup your environment variables. If you are working locally, please set your environment variables in a `.env` file. Also, if notebook is used on Colab, the Python path is redirected. "
      ]
    },
    {
      "cell_type": "code",
      "execution_count": null,
      "metadata": {},
      "outputs": [],
      "source": [
        "! pip install python-dotenv\n",
        "%reload_ext dotenv\n",
        "%dotenv"
      ]
    },
    {
      "cell_type": "code",
      "execution_count": null,
      "metadata": {},
      "outputs": [],
      "source": [
        "from IPython import get_ipython\n",
        "import os\n",
        "\n",
        "if \"google.colab\" in str(get_ipython()):\n",
        "    os.environ[\"PYTHONPATH\"] += \":/content/automl/\"\n",
        "    api_key = getpass(\"Add your API Key here: \")\n",
        "else:\n",
        "    api_key = os.getenv(\"KILI_API_KEY\")"
      ]
    },
    {
      "cell_type": "markdown",
      "metadata": {
        "id": "KrezIAheBaBA"
      },
      "source": [
        "## Install"
      ]
    },
    {
      "cell_type": "markdown",
      "metadata": {
        "id": "8_zB5lXPBaBA"
      },
      "source": [
        "We first follow the install procedure explained in the [README.md](https://github.com/kili-technology/automl/blob/main/README.md). "
      ]
    },
    {
      "cell_type": "code",
      "execution_count": null,
      "metadata": {
        "id": "n7gjiRZhBaBD"
      },
      "outputs": [],
      "source": [
        "!git clone https://github.com/kili-technology/automl.git"
      ]
    },
    {
      "cell_type": "code",
      "execution_count": null,
      "metadata": {
        "id": "myizMhqQBaBE"
      },
      "outputs": [],
      "source": [
        "%cd automl"
      ]
    },
    {
      "cell_type": "markdown",
      "metadata": {
        "id": "W0B2Ew9opfdW"
      },
      "source": [
        "Install the packages. This should take less than a minute. "
      ]
    },
    {
      "cell_type": "code",
      "execution_count": null,
      "metadata": {
        "id": "S3KdozTHBaBE"
      },
      "outputs": [],
      "source": [
        "%%capture\n",
        "!git submodule update --init\n",
        "!pip install torch\n",
        "!pip install -e ."
      ]
    },
    {
      "cell_type": "markdown",
      "metadata": {
        "id": "sUgY-iz6BaBI"
      },
      "source": [
        "## Imports"
      ]
    },
    {
      "cell_type": "code",
      "execution_count": null,
      "metadata": {
        "id": "y3u_I9GABaBJ"
      },
      "outputs": [],
      "source": [
        "from tqdm.autonotebook import tqdm\n",
        "\n",
        "from kili.client import Kili\n",
        "from datasets import load_dataset"
      ]
    },
    {
      "cell_type": "markdown",
      "metadata": {
        "id": "5sxrmNqCBaBJ"
      },
      "source": [
        "## Setup a mock Kili project"
      ]
    },
    {
      "cell_type": "markdown",
      "metadata": {
        "id": "mM-vWnpFBaBK"
      },
      "source": [
        "Setup the kili connection."
      ]
    },
    {
      "cell_type": "code",
      "execution_count": null,
      "metadata": {
        "id": "3piQsuK-BaBK"
      },
      "outputs": [],
      "source": [
        "kili = Kili(api_key=api_key, api_endpoint=api_endpoint)"
      ]
    },
    {
      "cell_type": "markdown",
      "metadata": {
        "id": "pz8CpvSriJJs"
      },
      "source": [
        "### Create the project"
      ]
    },
    {
      "cell_type": "code",
      "execution_count": null,
      "metadata": {
        "id": "qua2QqZiBaBL"
      },
      "outputs": [],
      "source": [
        "json_interface = {\n",
        "    \"jobRendererWidth\": 0.2,\n",
        "    \"jobs\": {\n",
        "        \"CLASSIFICATION_JOB\": {\n",
        "            \"mlTask\": \"CLASSIFICATION\",\n",
        "            \"content\": {\n",
        "                \"categories\": {\n",
        "                    \"POSITIVE\": {\n",
        "                        \"name\": \"positive\"\n",
        "                    },\n",
        "                    \"NEGATIVE\": {\n",
        "                        \"name\": \"negative\"\n",
        "                    }\n",
        "                },\n",
        "                \"input\": \"radio\"\n",
        "            },\n",
        "            \"required\": 0,\n",
        "            \"isChild\": False,\n",
        "            \"instruction\": \"Sentiment Class\"\n",
        "        }\n",
        "    }\n",
        "}"
      ]
    },
    {
      "cell_type": "code",
      "execution_count": null,
      "metadata": {
        "id": "aHEB9NF5BaBL"
      },
      "outputs": [],
      "source": [
        "project = kili.create_project(\n",
        "        title=\"Sentiment Analysis IMDB\",\n",
        "        description=\"Classify sentiment in IMDB Reviews\",\n",
        "        input_type=\"TEXT\",\n",
        "        json_interface=json_interface\n",
        ")"
      ]
    },
    {
      "cell_type": "code",
      "execution_count": null,
      "metadata": {},
      "outputs": [],
      "source": [
        "project_id = project[\"id\"]"
      ]
    },
    {
      "cell_type": "markdown",
      "metadata": {
        "id": "OnFCYRs0fxU-"
      },
      "source": [
        "### Add assets"
      ]
    },
    {
      "cell_type": "code",
      "execution_count": null,
      "metadata": {
        "id": "ikNzvMvVKycQ"
      },
      "outputs": [],
      "source": [
        "from datasets import load_dataset\n",
        "\n",
        "training_dataset = load_dataset(\"imdb\", split=\"train\")\n",
        "unlabeled_dataset = load_dataset(\"imdb\", split=\"unsupervised\")"
      ]
    },
    {
      "cell_type": "markdown",
      "metadata": {
        "id": "k_IkfhHMKzAl"
      },
      "source": [
        "Shuffle and downsample dataset."
      ]
    },
    {
      "cell_type": "code",
      "execution_count": null,
      "metadata": {
        "id": "pEqFkSnVK39H"
      },
      "outputs": [],
      "source": [
        "NUMBER_OF_SAMPLES = 100"
      ]
    },
    {
      "cell_type": "code",
      "execution_count": null,
      "metadata": {
        "id": "YrhoqretK7Nz"
      },
      "outputs": [],
      "source": [
        "shuffled_training_dataset = training_dataset.shuffle(seed=42)\n",
        "shuffled_unlabeled_dataset = unlabeled_dataset.shuffle(seed=42)\n",
        "\n",
        "downsampled_training_dataset = shuffled_training_dataset[:NUMBER_OF_SAMPLES]\n",
        "downsampled_unlabeled_dataset = shuffled_unlabeled_dataset[:NUMBER_OF_SAMPLES]"
      ]
    },
    {
      "cell_type": "code",
      "execution_count": null,
      "metadata": {
        "id": "gdBqgt3cBaBK"
      },
      "outputs": [],
      "source": [
        "training_assets = [\n",
        "    {\n",
        "        \"externalId\": f\"review {i}\",\n",
        "        \"content\":  review,\n",
        "    }\n",
        "    for i, review in enumerate(downsampled_training_dataset[\"text\"])\n",
        "]\n",
        "unlabeled_assets = [\n",
        "    {\n",
        "        \"externalId\": f\"review {i + NUMBER_OF_SAMPLES}\",\n",
        "        \"content\": review,\n",
        "    }\n",
        "    for i, review in enumerate(downsampled_unlabeled_dataset[\"text\"])\n",
        "]\n",
        "assets_to_import = training_assets + unlabeled_assets\n",
        "\n",
        "print(\"Number of Training assets: \", len(training_assets))\n",
        "print(\"Number of unlabeled assets: \", len(unlabeled_assets))\n",
        "print(\"Total Number of assets: \", len(assets_to_import))"
      ]
    },
    {
      "cell_type": "markdown",
      "metadata": {
        "id": "V0rJ5DUcBaBL"
      },
      "source": [
        "Now we send the data to our Kili project."
      ]
    },
    {
      "cell_type": "code",
      "execution_count": null,
      "metadata": {
        "id": "j6eKQeZ6fzOG"
      },
      "outputs": [],
      "source": [
        "external_id_array = [a.get(\"externalId\") for a in assets_to_import]\n",
        "content_array = [a.get(\"content\") for a in assets_to_import]\n",
        "kili.append_many_to_dataset(project_id=project_id, \n",
        "                            content_array=content_array,\n",
        "                            external_id_array=external_id_array)"
      ]
    },
    {
      "cell_type": "markdown",
      "metadata": {
        "id": "IhfaOkxrBaBM"
      },
      "source": [
        "### Add labels to assets"
      ]
    },
    {
      "cell_type": "markdown",
      "metadata": {
        "id": "L2tIiWEPHTo4"
      },
      "source": [
        "We add labels to half of the data to simulate a project where we haven't labeled much data and we want to predict the labels of the unlabeled data. "
      ]
    },
    {
      "cell_type": "code",
      "execution_count": null,
      "metadata": {
        "id": "wcNfZyfeMrf2"
      },
      "outputs": [],
      "source": [
        "sentiments = [\"NEGATIVE\", \"POSITIVE\"]"
      ]
    },
    {
      "cell_type": "code",
      "execution_count": null,
      "metadata": {
        "id": "-ba30tMQMsek"
      },
      "outputs": [],
      "source": [
        "asset_ids = kili.assets(project_id=project_id, fields=[\"id\", \"externalId\"])[:NUMBER_OF_SAMPLES]\n",
        "\n",
        "for label, asset_id in tqdm(zip(downsampled_training_dataset[\"label\"], asset_ids), total=len(asset_ids)):\n",
        "    kili.append_to_labels(label_asset_id=asset_id[\"id\"],\n",
        "                          json_response={\n",
        "                              \"CLASSIFICATION_JOB\": {\n",
        "                                  \"categories\": [{\"name\": sentiments[label]}]\n",
        "                               }\n",
        "                          })"
      ]
    },
    {
      "cell_type": "markdown",
      "metadata": {
        "id": "dd3qerFeO7Rt"
      },
      "source": [
        "You can now click on the following link to see the assets in your project:"
      ]
    },
    {
      "cell_type": "code",
      "execution_count": null,
      "metadata": {
        "id": "r31azkPdO66e"
      },
      "outputs": [],
      "source": [
        "print(f\"{KILI_URL}label/projects/{project_id}/menu/queue?currentPage=1&pageSize=20\")"
      ]
    },
    {
      "cell_type": "markdown",
      "metadata": {
        "id": "0tOtfBaABaBN"
      },
      "source": [
        "## Training a text classifier with Kiliautoml"
      ]
    },
    {
      "cell_type": "markdown",
      "metadata": {
        "id": "iqfddWnUG_R1"
      },
      "source": [
        "The following command will automatically download the labeled data in your Kili project. Then, it will choose the right model for your task, train it with this data and save it locally. You can visualize the training evolution on [Weights and Biases](https://wandb.ai/)."
      ]
    },
    {
      "cell_type": "code",
      "execution_count": null,
      "metadata": {
        "id": "-uwLPjF9BaBN"
      },
      "outputs": [],
      "source": [
        "!kiliautoml train \\\n",
        "    --api-key $api_key \\\n",
        "    --project-id $project_id \\\n",
        "    --epochs 30\n",
        "    "
      ]
    },
    {
      "cell_type": "markdown",
      "metadata": {
        "id": "fda-qEzgBaBN"
      },
      "source": [
        "### Send predictions"
      ]
    },
    {
      "cell_type": "markdown",
      "metadata": {
        "id": "jMdUHgsOqQS_"
      },
      "source": [
        "Now we can use our local trained model to predict the classes of our text assets and send the prediction scores to the project on Kili. These preannotations can then be validated or corrected by annotators."
      ]
    },
    {
      "cell_type": "code",
      "execution_count": null,
      "metadata": {
        "id": "lud1i-v9BaBN"
      },
      "outputs": [],
      "source": [
        "!kiliautoml predict \\\n",
        "    --api-key $api_key \\\n",
        "    --project-id $project_id"
      ]
    },
    {
      "cell_type": "markdown",
      "metadata": {
        "id": "fyPzfujpqiXv"
      },
      "source": [
        "Now you can ckeck that your assets have predictions on [Kili](https://cloud.kili-technology.com/)!"
      ]
    },
    {
      "cell_type": "code",
      "execution_count": null,
      "metadata": {
        "id": "sgH92N1CLn55"
      },
      "outputs": [],
      "source": [
        "print(f\"{KILI_URL}label/projects/{project_id}/menu/queue?currentPage=1&pageSize=20\")"
      ]
    }
  ],
  "metadata": {
    "accelerator": "GPU",
    "colab": {
      "name": "Copie de text_classification.ipynb",
      "provenance": [],
      "toc_visible": true
    },
    "interpreter": {
      "hash": "449e565a27a23acd15c32e769a07661ae193905e7f288056cccc0b6a403de553"
    },
    "kernelspec": {
      "display_name": "Python 3.9.12 ('automl')",
      "language": "python",
      "name": "python3"
    },
    "language_info": {
      "codemirror_mode": {
        "name": "ipython",
        "version": 3
      },
      "file_extension": ".py",
      "mimetype": "text/x-python",
      "name": "python",
      "nbconvert_exporter": "python",
      "pygments_lexer": "ipython3",
      "version": "3.7.13"
    }
  },
  "nbformat": 4,
  "nbformat_minor": 0
}
