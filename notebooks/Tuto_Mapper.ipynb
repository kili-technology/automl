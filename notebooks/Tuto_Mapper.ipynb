{
 "cells": [
  {
   "cell_type": "markdown",
   "metadata": {
    "id": "VXbYQyxfw-fw"
   },
   "source": [
    "[![Open In Colab](https://colab.research.google.com/assets/colab-badge.svg)](https://colab.research.google.com/github/kili-technology/automl/blob/feature/ml-345-mapper/notebooks/Tuto_Mapper.ipynb)"
   ]
  },
  {
   "cell_type": "markdown",
   "metadata": {
    "id": "L9_fNq8zqAH_"
   },
   "source": [
    "# Create Mapper from Kili Dataset"
   ]
  },
  {
   "cell_type": "markdown",
   "metadata": {
    "id": "aKejop6ok_ne"
   },
   "source": [
    "## Requirements"
   ]
  },
  {
   "cell_type": "code",
   "execution_count": null,
   "metadata": {
    "id": "850KFigkX0v9"
   },
   "outputs": [],
   "source": [
    "import os\n",
    "from getpass import getpass\n",
    "import numpy as np\n",
    "from tqdm import tqdm"
   ]
  },
  {
   "cell_type": "code",
   "execution_count": null,
   "metadata": {
    "colab": {
     "base_uri": "https://localhost:8080/"
    },
    "id": "VbOpIXNZgK-V",
    "outputId": "c83cf877-f280-44bc-9298-a9db6cbc4533"
   },
   "outputs": [],
   "source": [
    "!git clone --branch feature/ml-345-mapper https://$GITHUB_TOKEN@github.com/kili-technology/automl.git"
   ]
  },
  {
   "cell_type": "code",
   "execution_count": null,
   "metadata": {
    "colab": {
     "base_uri": "https://localhost:8080/"
    },
    "id": "gR8wh6F2hq9Z",
    "outputId": "c9686acc-1ee0-45f0-be5e-2e1989095cbe"
   },
   "outputs": [],
   "source": [
    "%cd /content/automl\n",
    "!pip install -r requirements.txt\n",
    "!pip install -e ."
   ]
  },
  {
   "cell_type": "code",
   "execution_count": null,
   "metadata": {
    "id": "L5xUNRW3hpnk"
   },
   "outputs": [],
   "source": [
    "from kili.client import Kili"
   ]
  },
  {
   "cell_type": "code",
   "execution_count": null,
   "metadata": {
    "colab": {
     "base_uri": "https://localhost:8080/"
    },
    "id": "5srFA-cLgLKY",
    "outputId": "862d6060-cd66-458e-c352-cb4bc341f997"
   },
   "outputs": [],
   "source": [
    "kili_api_key = getpass('Kili API Key: ')\n",
    "os.environ[\"KILI_API_KEY\"] =  kili_api_key\n",
    "api_key = os.environ[\"KILI_API_KEY\"]\n",
    "\n",
    "kili = Kili(api_key=api_key)"
   ]
  },
  {
   "cell_type": "markdown",
   "metadata": {
    "id": "uMPdRHzCkjuN"
   },
   "source": [
    "## (Optional) Create Project in Kili"
   ]
  },
  {
   "cell_type": "code",
   "execution_count": null,
   "metadata": {
    "id": "HJHIvtiAic0I"
   },
   "outputs": [],
   "source": [
    "json_interface = {\n",
    "    \"jobRendererWidth\": 0.2,\n",
    "    \"jobs\": {\n",
    "        \"CLASSIFICATION_JOB\": {\n",
    "            \"mlTask\": \"CLASSIFICATION\",\n",
    "            \"content\": {\n",
    "                \"categories\": {\n",
    "                    \"VEHICLE\": {\n",
    "                        \"name\": \"vehicle\"\n",
    "                    },\n",
    "                    \"NON_VEHICLE\": {\n",
    "                        \"name\": \"non vehicle\"\n",
    "                    }\n",
    "                },\n",
    "                \"input\": \"radio\"\n",
    "            },\n",
    "            \"required\": 0,\n",
    "            \"isChild\": False,\n",
    "            \"instruction\": \"Class of vehicle presence\"\n",
    "        }\n",
    "    }\n",
    "}"
   ]
  },
  {
   "cell_type": "code",
   "execution_count": null,
   "metadata": {
    "id": "X91TmyxyxWTx"
   },
   "outputs": [],
   "source": [
    "project_id = kili.create_project(\n",
    "        title=\"Vehicle Classification\",\n",
    "        description=\"Classify vehicle presence\",\n",
    "        input_type=\"IMAGE\",\n",
    "        json_interface=json_interface\n",
    ")[\"id\"]"
   ]
  },
  {
   "cell_type": "markdown",
   "metadata": {
    "id": "1zNpUSy1xd26"
   },
   "source": [
    "Add assets"
   ]
  },
  {
   "cell_type": "code",
   "execution_count": null,
   "metadata": {
    "id": "GTsbTZZ2xZzG"
   },
   "outputs": [],
   "source": [
    "vehicle_assets = [\n",
    "    {\n",
    "        \"externalId\": f\"{i}\",\n",
    "        \"content\": f\"https://storage.googleapis.com/kili-machine-learning-automl/notebooks/vehicle_classification/vehicles/image_{i}.png\",\n",
    "        \"metadata\": {}\n",
    "    }\n",
    "    for i in range(500)\n",
    "]\n",
    "non_vehicle_assets = [\n",
    "    {\n",
    "        \"externalId\": f\"{len(vehicle_assets) + i}\",\n",
    "        \"content\": f\"https://storage.googleapis.com/kili-machine-learning-automl/notebooks/vehicle_classification/non-vehicles/image_{i}.png\",\n",
    "        \"metadata\": {}\n",
    "    }\n",
    "    for i in range(500)\n",
    "]\n",
    "assets_to_import = vehicle_assets + non_vehicle_assets"
   ]
  },
  {
   "cell_type": "code",
   "execution_count": null,
   "metadata": {
    "colab": {
     "base_uri": "https://localhost:8080/"
    },
    "id": "03untVlexaOt",
    "outputId": "d5f818d9-ce8d-4ee6-a192-f862defcf7e2"
   },
   "outputs": [],
   "source": [
    "external_id_array = [a.get(\"externalId\") for a in assets_to_import]\n",
    "content_array = [a.get(\"content\") for a in assets_to_import]\n",
    "json_metadata_array = [a.get(\"metadata\") for a in assets_to_import]\n",
    "kili.append_many_to_dataset(project_id=project_id, \n",
    "                            content_array=content_array,\n",
    "                            external_id_array=external_id_array, \n",
    "                            json_metadata_array=json_metadata_array)"
   ]
  },
  {
   "cell_type": "markdown",
   "metadata": {
    "id": "dI2VBmAkxgJD"
   },
   "source": [
    "Add labels"
   ]
  },
  {
   "cell_type": "code",
   "execution_count": null,
   "metadata": {
    "colab": {
     "base_uri": "https://localhost:8080/"
    },
    "id": "edBluCDtxbvr",
    "outputId": "07408a30-5afb-4eab-b571-0012a3950acf"
   },
   "outputs": [],
   "source": [
    "asset_ids = kili.assets(project_id=project_id, fields=[\"id\", \"externalId\"], first=1000)\n",
    "\n",
    "for asset_id in tqdm(asset_ids):\n",
    "    external_id = int(asset_id[\"externalId\"])\n",
    "    if external_id < 500:\n",
    "        kili.append_to_labels(label_asset_id=asset_id[\"id\"],\n",
    "                              json_response={\n",
    "                                  \"CLASSIFICATION_JOB\": {\n",
    "                                      \"categories\": [{\"name\": \"VEHICLE\"}]\n",
    "                                  }\n",
    "                              })\n",
    "\n",
    "    else:\n",
    "        kili.append_to_labels(label_asset_id=asset_id[\"id\"],\n",
    "                              json_response={\n",
    "                                  \"CLASSIFICATION_JOB\": {\n",
    "                                      \"categories\": [{\"name\": \"NON_VEHICLE\"}]\n",
    "                                  }\n",
    "                              })"
   ]
  },
  {
   "cell_type": "markdown",
   "metadata": {
    "id": "0TPxApp4kra3"
   },
   "source": [
    "## (Optional) Train a model with KiliAutoML and Create predictions"
   ]
  },
  {
   "cell_type": "code",
   "execution_count": null,
   "metadata": {
    "colab": {
     "base_uri": "https://localhost:8080/"
    },
    "id": "4jc80EbNkuOd",
    "outputId": "b4f7185f-d214-4a78-f252-7a3e5eb760a8"
   },
   "outputs": [],
   "source": [
    "!PYTHONPATH=$(pwd) kiliautoml train --project-id $project_id  --epochs 10 --verbose 4"
   ]
  },
  {
   "cell_type": "code",
   "execution_count": null,
   "metadata": {
    "id": "dPNMOmqHj9o5"
   },
   "outputs": [],
   "source": [
    "from commands.predict import predict_one_job\n",
    "from kiliautoml.utils.helpers import get_project, get_assets"
   ]
  },
  {
   "cell_type": "code",
   "execution_count": null,
   "metadata": {
    "colab": {
     "base_uri": "https://localhost:8080/"
    },
    "id": "94BbyywykRhY",
    "outputId": "baac443d-0ee7-4591-eaa8-2c3fed2f0fc7"
   },
   "outputs": [],
   "source": [
    "api_endpoint=\"https://cloud.kili-technology.com/api/label/v2/graphql\"\n",
    "from_model=None\n",
    "batch_size=10\n",
    "model_repository=None\n",
    "model_name=None\n",
    "model_framework=\"pytorch\"\n",
    "from_project=None\n",
    "clear_dataset_cache=False\n",
    "\n",
    "input_type, jobs, _ = get_project(kili, project_id)\n",
    "\n",
    "for job_name, job in jobs.items():\n",
    "  print(job_name)\n",
    "\n",
    "content_input = job.get(\"content\", {}).get(\"input\")\n",
    "ml_task = job.get(\"mlTask\")\n",
    "tools = job.get(\"tools\")\n",
    "\n",
    "assets = get_assets(\n",
    "                kili,\n",
    "                project_id,\n",
    "                status_in=None,\n",
    "                randomize=False\n",
    "            )\n",
    "\n",
    "job_predictions = predict_one_job(\n",
    "                    api_key=api_key,\n",
    "                    api_endpoint=api_endpoint,\n",
    "                    project_id=project_id,\n",
    "                    from_model=from_model,\n",
    "                    verbose=4,\n",
    "                    job=job,\n",
    "                    input_type=input_type,\n",
    "                    assets=assets,\n",
    "                    batch_size=batch_size,\n",
    "                    job_name=job_name,\n",
    "                    content_input=content_input,\n",
    "                    model_repository=model_repository,\n",
    "                    model_name=model_name,\n",
    "                    model_framework=model_framework,\n",
    "                    from_project=from_project,\n",
    "                    ml_task=ml_task,\n",
    "                    tools=tools,\n",
    "                    clear_dataset_cache=clear_dataset_cache,\n",
    "                )"
   ]
  },
  {
   "cell_type": "code",
   "execution_count": null,
   "metadata": {
    "id": "22QZjFhykad7"
   },
   "outputs": [],
   "source": [
    "data_path = '/root/.cache/kili/automl/' + project_id + '/CLASSIFICATION_JOB/torchvision/data'\n",
    "!cp -R $data_path '/content/assets'"
   ]
  },
  {
   "cell_type": "code",
   "execution_count": null,
   "metadata": {
    "id": "8ctaJ_vypHLR"
   },
   "outputs": [],
   "source": [
    "np.savetxt('/content/predictions.csv', job_predictions.predictions_probability, delimiter=\",\")"
   ]
  },
  {
   "cell_type": "code",
   "execution_count": null,
   "metadata": {
    "colab": {
     "base_uri": "https://localhost:8080/"
    },
    "id": "RhfvZ6IssY--",
    "outputId": "792db8cc-6389-4526-ecd5-fbfc9e6183a7"
   },
   "outputs": [],
   "source": [
    "%cd /content"
   ]
  },
  {
   "cell_type": "markdown",
   "metadata": {
    "id": "Dd9KuDEej5Rp"
   },
   "source": [
    "## Create Mapper with AutoML"
   ]
  },
  {
   "cell_type": "markdown",
   "metadata": {
    "id": "6lQTSp89hXa7"
   },
   "source": [
    "Mapper argument: \n",
    "\n",
    "--api-endpoint, --api-key, --project-id , --target-job, --max-assets,\n",
    "\n",
    "--assets-repository : Required, where to store downloaded assets.\n",
    "\n",
    "--asset-status-in: if None or TODO or ONGOING included, mapper.py will not use labels in the asset assignment.\n",
    "\n",
    "--cv-folds: Number of cv-folds used to compute predictions. Used only if not (None or TODO or ONGOING included in asset-status-in). \n",
    "\n",
    "--focus-class: only use assets with labels or predictions inside focus-class."
   ]
  },
  {
   "cell_type": "code",
   "execution_count": null,
   "metadata": {
    "colab": {
     "base_uri": "https://localhost:8080/"
    },
    "id": "zt4hKCPohk0t",
    "outputId": "a5455dd9-04a6-4e9c-d347-4faa62a25857"
   },
   "outputs": [],
   "source": [
    "!python automl/mapper.py --project-id $project_id  --assets-repository /content/assets --predictions-path /content/predictions.csv"
   ]
  }
 ],
 "metadata": {
  "accelerator": "GPU",
  "colab": {
   "collapsed_sections": [],
   "machine_shape": "hm",
   "name": "Tuto_Mapper_AutoML.ipynb",
   "provenance": []
  },
  "kernelspec": {
   "display_name": "Python 3",
   "name": "python3"
  },
  "language_info": {
   "name": "python"
  }
 },
 "nbformat": 4,
 "nbformat_minor": 0
}
