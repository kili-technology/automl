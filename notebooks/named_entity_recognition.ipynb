{
  "cells": [
    {
      "cell_type": "markdown",
      "metadata": {
        "id": "view-in-github"
      },
      "source": [
        "<a href=\"https://colab.research.google.com/github/kili-technology/automl/blob/main/notebooks/named_entity_recognition.ipynb\" target=\"_parent\"><img src=\"https://colab.research.google.com/assets/colab-badge.svg\" alt=\"Open In Colab\"/></a>"
      ]
    },
    {
      "cell_type": "markdown",
      "metadata": {
        "id": "zYG5RYRUBaA7"
      },
      "source": [
        "# Named Entity Recognition Using AutoML"
      ]
    },
    {
      "cell_type": "markdown",
      "metadata": {
        "id": "GpmLGl2pBaA_"
      },
      "source": [
        "In this notebook, we will see how we can simply create a Named Entity recognition (NER) model with AutoML to pre-annotate our dataset on the [Kili Platform](https://cloud.kili-technology.com/label/)."
      ]
    },
    {
      "cell_type": "markdown",
      "metadata": {
        "id": "KrezIAheBaBA"
      },
      "source": [
        "## Install"
      ]
    },
    {
      "cell_type": "markdown",
      "metadata": {
        "id": "8_zB5lXPBaBA"
      },
      "source": [
        "We first follow the install procedure explained in the [README.md](https://github.com/kili-technology/automl/blob/main/README.md). "
      ]
    },
    {
      "cell_type": "code",
      "execution_count": null,
      "metadata": {
        "id": "n7gjiRZhBaBD"
      },
      "outputs": [],
      "source": [
        "!git clone https://github.com/kili-technology/automl.git"
      ]
    },
    {
      "cell_type": "code",
      "execution_count": null,
      "metadata": {
        "id": "myizMhqQBaBE"
      },
      "outputs": [],
      "source": [
        "%cd automl"
      ]
    },
    {
      "cell_type": "markdown",
      "metadata": {
        "id": "W0B2Ew9opfdW"
      },
      "source": [
        "Install the packages. This should take less than a minute. "
      ]
    },
    {
      "cell_type": "code",
      "execution_count": null,
      "metadata": {
        "id": "S3KdozTHBaBE"
      },
      "outputs": [],
      "source": [
        "%%capture\n",
        "!git submodule update --init\n",
        "!pip install torch\n",
        "!pip install -e ."
      ]
    },
    {
      "cell_type": "markdown",
      "metadata": {
        "id": "sUgY-iz6BaBI"
      },
      "source": [
        "## Imports"
      ]
    },
    {
      "cell_type": "code",
      "execution_count": null,
      "metadata": {
        "id": "y3u_I9GABaBJ"
      },
      "outputs": [],
      "source": [
        "from itertools import cycle\n",
        "import os\n",
        "from getpass import getpass\n",
        "from tqdm.autonotebook import tqdm\n",
        "\n",
        "from kili.client import Kili\n",
        "from datasets import load_dataset"
      ]
    },
    {
      "cell_type": "markdown",
      "metadata": {
        "id": "FJ3Mt1dzpBvu"
      },
      "source": [
        "Setup the python PATH to use kiliautoml."
      ]
    },
    {
      "cell_type": "code",
      "execution_count": null,
      "metadata": {
        "id": "D4u8PlTQpFSc"
      },
      "outputs": [],
      "source": [
        "KILI_URL=\"https://cloud.kili-technology.com/\"\n",
        "os.environ[\"PYTHONPATH\"] += \":/content/automl/\""
      ]
    },
    {
      "cell_type": "markdown",
      "metadata": {
        "id": "E8Kowm7HBaBI"
      },
      "source": [
        "After getting your API key from the Kili platform, you can setup your environment variables."
      ]
    },
    {
      "cell_type": "code",
      "execution_count": null,
      "metadata": {
        "id": "VAR3u1wZBaBI"
      },
      "outputs": [],
      "source": [
        "api_key = getpass(\"Add your API Key here: \")\n",
        "api_endpoint = os.path.join(KILI_URL, \"api/label/v2/graphql\") # If you are not using Kili SaaS, change the endpoint to your configuration"
      ]
    },
    {
      "cell_type": "markdown",
      "metadata": {
        "id": "5sxrmNqCBaBJ"
      },
      "source": [
        "## Setup a mock Kili project"
      ]
    },
    {
      "cell_type": "markdown",
      "metadata": {
        "id": "mM-vWnpFBaBK"
      },
      "source": [
        "Setup the kili connection."
      ]
    },
    {
      "cell_type": "code",
      "execution_count": null,
      "metadata": {
        "id": "3piQsuK-BaBK"
      },
      "outputs": [],
      "source": [
        "kili = Kili(api_key=api_key, api_endpoint=api_endpoint)"
      ]
    },
    {
      "cell_type": "markdown",
      "metadata": {
        "id": "pz8CpvSriJJs"
      },
      "source": [
        "### Create the project"
      ]
    },
    {
      "cell_type": "code",
      "execution_count": null,
      "metadata": {
        "id": "qua2QqZiBaBL"
      },
      "outputs": [],
      "source": [
        "COLORS = [\n",
        "    \"#1f77b4\",\n",
        "    \"#ff7f0e\",\n",
        "    \"#2ca02c\",\n",
        "    \"#d62728\",\n",
        "]\n",
        "\n",
        "ENTITY_TYPES = [\n",
        "    (\"PERSON\", \"Person\"),\n",
        "    (\"ORGANIZATION\", \"Organization\"),\n",
        "    (\"LOCATION\", \"Location\"),\n",
        "    (\"MISCELLANEOUS\", \"Miscellaneous\")\n",
        "]\n",
        "\n",
        "ENTITY_TYPES_WITH_COLORS = [(n[0], n[1], c)\n",
        "                            for n, c in zip(ENTITY_TYPES, cycle(COLORS))]\n",
        "\n",
        "json_interface = {\n",
        "    \"jobs\": {\n",
        "        \"NAMED_ENTITIES_RECOGNITION_JOB\": {\n",
        "            \"mlTask\": \"NAMED_ENTITIES_RECOGNITION\",\n",
        "            \"content\": {\n",
        "                \"categories\": {\n",
        "                    name: {\"name\": name_pretty,\n",
        "                           \"children\": [], \"color\": color}\n",
        "                    for name, name_pretty, color in ENTITY_TYPES_WITH_COLORS\n",
        "                },\n",
        "                \"input\": \"radio\",\n",
        "            },\n",
        "            \"instruction\": \"\",\n",
        "            \"required\": 1,\n",
        "            \"isChild\": False,\n",
        "        }\n",
        "    },\n",
        "}"
      ]
    },
    {
      "cell_type": "code",
      "execution_count": null,
      "metadata": {
        "id": "aHEB9NF5BaBL"
      },
      "outputs": [],
      "source": [
        "project_id = kili.create_project(\n",
        "        title=\"CoNLL Named Entity Recognition\",\n",
        "        description=\"Find named entities in CoNLL 2003 \\n For more details see https://www.clips.uantwerpen.be/conll2003/ner/ and https://www.aclweb.org/anthology/W03-0419\",\n",
        "        input_type=\"TEXT\",\n",
        "        json_interface=json_interface\n",
        ")[\"id\"]"
      ]
    },
    {
      "cell_type": "markdown",
      "metadata": {
        "id": "OnFCYRs0fxU-"
      },
      "source": [
        "### Add assets"
      ]
    },
    {
      "cell_type": "code",
      "execution_count": null,
      "metadata": {
        "id": "ikNzvMvVKycQ"
      },
      "outputs": [],
      "source": [
        "def load_connl(split):\n",
        "    conll_dataset = load_dataset(\"conll2003\", split=split)\n",
        "    formatted_dataset = []\n",
        "    for elem in tqdm(conll_dataset):\n",
        "        formatted_dataset.append(\n",
        "            {\"id\": int(elem[\"id\"]), \"tokens\": elem[\"tokens\"], \"tags\": elem[\"ner_tags\"]}\n",
        "        )\n",
        "    return formatted_dataset"
      ]
    },
    {
      "cell_type": "code",
      "execution_count": null,
      "metadata": {
        "id": "uYRosfH4mebQ"
      },
      "outputs": [],
      "source": [
        "training_dataset = load_dataset(\"conll2003\", split=\"train\")\n",
        "test_dataset = load_dataset(\"conll2003\", split=\"test\")"
      ]
    },
    {
      "cell_type": "markdown",
      "metadata": {
        "id": "k_IkfhHMKzAl"
      },
      "source": [
        "Shuffle and downsample dataset."
      ]
    },
    {
      "cell_type": "code",
      "execution_count": null,
      "metadata": {
        "id": "pEqFkSnVK39H"
      },
      "outputs": [],
      "source": [
        "NUMBER_OF_SAMPLES = 100"
      ]
    },
    {
      "cell_type": "code",
      "execution_count": null,
      "metadata": {
        "id": "YrhoqretK7Nz"
      },
      "outputs": [],
      "source": [
        "shuffled_training_dataset = training_dataset.shuffle(seed=42)\n",
        "shuffled_test_dataset = test_dataset.shuffle(seed=42)\n",
        "\n",
        "downsampled_training_dataset = shuffled_training_dataset[:NUMBER_OF_SAMPLES]\n",
        "downsampled_test_dataset = shuffled_test_dataset[:NUMBER_OF_SAMPLES]"
      ]
    },
    {
      "cell_type": "code",
      "execution_count": null,
      "metadata": {
        "id": "gdBqgt3cBaBK"
      },
      "outputs": [],
      "source": [
        "training_assets = [\n",
        "    {\n",
        "        \"externalId\": f\"text {i}\",\n",
        "        \"content\":  \" \".join(tokens),\n",
        "    }\n",
        "    for i, tokens in enumerate(downsampled_training_dataset[\"tokens\"])\n",
        "]\n",
        "test_assets = [\n",
        "    {\n",
        "        \"externalId\": f\"text {i + NUMBER_OF_SAMPLES}\",\n",
        "        \"content\": \" \".join(tokens),\n",
        "    }\n",
        "    for i, tokens in enumerate(downsampled_test_dataset[\"tokens\"])\n",
        "]\n",
        "assets_to_import = training_assets + test_assets\n",
        "\n",
        "print(\"Number of Training assets: \", len(training_assets))\n",
        "print(\"Number of unlabeled assets: \", len(test_assets))\n",
        "print(\"Total Number of assets: \", len(assets_to_import))"
      ]
    },
    {
      "cell_type": "markdown",
      "metadata": {
        "id": "V0rJ5DUcBaBL"
      },
      "source": [
        "Now we send the data to our Kili project."
      ]
    },
    {
      "cell_type": "code",
      "execution_count": null,
      "metadata": {
        "id": "j6eKQeZ6fzOG"
      },
      "outputs": [],
      "source": [
        "external_id_array = [a.get(\"externalId\") for a in assets_to_import]\n",
        "content_array = [a.get(\"content\") for a in assets_to_import]\n",
        "kili.append_many_to_dataset(project_id=project_id, \n",
        "                            content_array=content_array,\n",
        "                            external_id_array=external_id_array)"
      ]
    },
    {
      "cell_type": "markdown",
      "metadata": {
        "id": "IhfaOkxrBaBM"
      },
      "source": [
        "### Add labels to assets"
      ]
    },
    {
      "cell_type": "markdown",
      "metadata": {
        "id": "L2tIiWEPHTo4"
      },
      "source": [
        "We add labels to half of the data to simulate a project where we haven't labeled much data and we want to predict the labels of the unlabeled data. "
      ]
    },
    {
      "cell_type": "code",
      "execution_count": null,
      "metadata": {
        "id": "wcNfZyfeMrf2"
      },
      "outputs": [],
      "source": [
        "categories = [\"PERSON\", \"ORGANIZATION\", \"LOCATION\", \"MISCELLANEOUS\"]"
      ]
    },
    {
      "cell_type": "code",
      "execution_count": null,
      "metadata": {
        "id": "X-tFVhcurc3o"
      },
      "outputs": [],
      "source": [
        "def get_annotations(tokens, tags):\n",
        "    offset = 0\n",
        "    annotations = []\n",
        "    current_word = \"\"\n",
        "    current_mid = None\n",
        "    category_name = None\n",
        "    begin_offset = 0\n",
        "    for token, tag in zip(tokens, tags):\n",
        "        if tag % 2 == 1:\n",
        "            category_name = categories[(tag - 1) // 2]\n",
        "            current_mid = token.lower()\n",
        "            current_word = token\n",
        "            begin_offset = offset\n",
        "        elif tag != 0:\n",
        "            current_word += f\" {token}\"\n",
        "        else:\n",
        "            if current_mid is not None:\n",
        "                annotations.append({\n",
        "                    \"categories\": [{\"name\": category_name}],\n",
        "                    \"beginOffset\": begin_offset,\n",
        "                    \"content\": current_word,\n",
        "                    \"mid\": current_mid\n",
        "                })\n",
        "                current_mid = None\n",
        "        offset += len(token) + 1\n",
        "    return annotations"
      ]
    },
    {
      "cell_type": "code",
      "execution_count": null,
      "metadata": {
        "id": "sjH3WHl9vL32"
      },
      "outputs": [],
      "source": [
        "asset_ids = kili.assets(project_id=project_id, fields=[\"id\", \"externalId\"])[:NUMBER_OF_SAMPLES]\n"
      ]
    },
    {
      "cell_type": "code",
      "execution_count": null,
      "metadata": {
        "id": "-ba30tMQMsek"
      },
      "outputs": [],
      "source": [
        "for (tokens, ner_tags), asset_id in tqdm(zip(zip(downsampled_training_dataset[\"tokens\"],downsampled_training_dataset[\"ner_tags\"]), asset_ids), total=len(asset_ids)):\n",
        "    annotations = get_annotations(tokens, ner_tags)\n",
        "    kili.append_to_labels(label_asset_id=asset_id[\"id\"],\n",
        "                          json_response={\"NAMED_ENTITIES_RECOGNITION_JOB\": {'annotations': annotations}})"
      ]
    },
    {
      "cell_type": "markdown",
      "metadata": {
        "id": "dd3qerFeO7Rt"
      },
      "source": [
        "You can now click on the following link to see the assets in your project:"
      ]
    },
    {
      "cell_type": "code",
      "execution_count": null,
      "metadata": {
        "id": "r31azkPdO66e"
      },
      "outputs": [],
      "source": [
        "print(f\"{KILI_URL}label/projects/{project_id}/menu/queue?currentPage=1&pageSize=20\")"
      ]
    },
    {
      "cell_type": "markdown",
      "metadata": {
        "id": "0tOtfBaABaBN"
      },
      "source": [
        "## Training a NER model with Kiliautoml"
      ]
    },
    {
      "cell_type": "markdown",
      "metadata": {
        "id": "iqfddWnUG_R1"
      },
      "source": [
        "The following command will automatically download the labeled data in your Kili project. Then, it will choose the right model for NER, train it with this data and save it locally. You can visualize the training evolution on [Weights and Biases](https://wandb.ai/)."
      ]
    },
    {
      "cell_type": "code",
      "execution_count": null,
      "metadata": {
        "id": "-uwLPjF9BaBN"
      },
      "outputs": [],
      "source": [
        "!kiliautoml train \\\n",
        "    --api-key $api_key \\\n",
        "    --api-endpoint $api_endpoint \\\n",
        "    --project-id $project_id \\\n",
        "    --epochs 30\n"
      ]
    },
    {
      "cell_type": "markdown",
      "metadata": {
        "id": "fda-qEzgBaBN"
      },
      "source": [
        "### Send predictions"
      ]
    },
    {
      "cell_type": "markdown",
      "metadata": {
        "id": "jMdUHgsOqQS_"
      },
      "source": [
        "Now we can use our local trained model to predict the classes of our text assets and send the prediction scores to the project on Kili. These preannotations can then be validated or corrected by annotators."
      ]
    },
    {
      "cell_type": "code",
      "execution_count": null,
      "metadata": {
        "id": "lud1i-v9BaBN"
      },
      "outputs": [],
      "source": [
        "!kiliautoml predict \\\n",
        "    --api-key $api_key \\\n",
        "    --api-endpoint $api_endpoint \\\n",
        "    --project-id $project_id"
      ]
    },
    {
      "cell_type": "markdown",
      "metadata": {
        "id": "fyPzfujpqiXv"
      },
      "source": [
        "Now you can ckeck that your assets have predictions on [Kili](https://cloud.kili-technology.com/)!"
      ]
    },
    {
      "cell_type": "code",
      "execution_count": null,
      "metadata": {
        "id": "sgH92N1CLn55"
      },
      "outputs": [],
      "source": [
        "print(f\"{KILI_URL}label/projects/{project_id}/menu/queue?currentPage=1&pageSize=20\")"
      ]
    }
  ],
  "metadata": {
    "accelerator": "GPU",
    "colab": {
      "collapsed_sections": [],
      "name": "Copie de named_entity_recognition.ipynb",
      "provenance": []
    },
    "interpreter": {
      "hash": "449e565a27a23acd15c32e769a07661ae193905e7f288056cccc0b6a403de553"
    },
    "kernelspec": {
      "display_name": "Python 3.9.12 ('automl')",
      "language": "python",
      "name": "python3"
    },
    "language_info": {
      "codemirror_mode": {
        "name": "ipython",
        "version": 3
      },
      "file_extension": ".py",
      "mimetype": "text/x-python",
      "name": "python",
      "nbconvert_exporter": "python",
      "pygments_lexer": "ipython3",
      "version": "3.7.13"
    }
  },
  "nbformat": 4,
  "nbformat_minor": 0
}
