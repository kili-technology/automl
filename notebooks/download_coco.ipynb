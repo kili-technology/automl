{
    "cells": [
        {
            "cell_type": "code",
            "execution_count": 1,
            "metadata": {},
            "outputs": [
                {
                    "name": "stdout",
                    "output_type": "stream",
                    "text": [
                        "Downloading split 'validation' to './coco_dataset/validation' if necessary\n",
                        "Found annotations at 'coco_dataset/raw/instances_val2017.json'\n",
                        "Images already downloaded\n",
                        "Existing download of split 'validation' is sufficient\n",
                        "Loading existing dataset 'coco-2017-validation'. To reload from disk, either delete the existing dataset or provide a custom `dataset_name` to use\n"
                    ]
                }
            ],
            "source": [
                "# import fiftyone as fo\n",
                "import fiftyone.zoo as foz\n",
                "\n",
                "# Download and load the validation split of COCO-2017\n",
                "dataset_dir = \"./coco_dataset\"\n",
                "dataset = foz.load_zoo_dataset(\"coco-2017\", split=\"validation\", dataset_dir=dataset_dir)"
            ]
        },
        {
            "cell_type": "code",
            "execution_count": 2,
            "metadata": {},
            "outputs": [],
            "source": [
                "import json\n",
                "from typing import Dict, List\n",
                "import numpy as np\n",
                "\n",
                "from typing_extensions import Literal, TypedDict\n",
                "from kiliautoml.utils.type import CategoryT\n",
                "\n",
                "# ## DETECTRON FORMAT\n",
                "\n",
                "class ImageCoco(TypedDict):\n",
                "    id: int\n",
                "    license: int\n",
                "    file_name: str\n",
                "    height: int\n",
                "    width: int\n",
                "    date_captured: None\n",
                "\n",
                "\n",
                "class CategoryCoco(TypedDict):\n",
                "    id: int\n",
                "    name: str\n",
                "    supercategory: str\n",
                "\n",
                "\n",
                "class AnnotationsCoco(TypedDict):\n",
                "    id: int\n",
                "    image_id: int  # -> external_id : the last part of the url\n",
                "    category_id: int\n",
                "    bbox: List[int]\n",
                "    segmentation: List[List[float]]  # [[x, y, x, y, x ...]]\n",
                "    area: int\n",
                "    iscrowd: int\n",
                "\n",
                "\n",
                "class CocoFormat(TypedDict):\n",
                "    info: Dict  # type: ignore\n",
                "    licenses: List[Dict]  # type: ignore\n",
                "    categories: List[CategoryCoco]\n",
                "    images: List[ImageCoco]\n",
                "    annotations: List[AnnotationsCoco]\n",
                "\n",
                "\n",
                "# ## KILI Polygon Semantic Format\n",
                "\n",
                "class NormalizedVertice(TypedDict):\n",
                "    x: float\n",
                "    y: float\n",
                "\n",
                "\n",
                "class NormalizedVertices(TypedDict):\n",
                "    normalizedVertices: List[NormalizedVertice]\n",
                "\n",
                "\n",
                "class SemanticAnnotation(TypedDict):\n",
                "    boundingPoly: List[NormalizedVertices]  # len(self.boundingPoly) == 1\n",
                "    mid: str\n",
                "    type: Literal[\"semantic\"]\n",
                "    categories: List[CategoryT]\n",
                "\n",
                "\n",
                "class SemanticJob(TypedDict):\n",
                "    annotations: List[SemanticAnnotation]\n",
                "\n",
                "\n",
                "job_name = \"SEMANTIC_JOB\"\n",
                "\n",
                "\n",
                "def convert_coco_to_kili(coco_format: CocoFormat) -> Dict[str, SemanticJob]:\n",
                "    \"\"\"\n",
                "    Coco format:\n",
                "    <dataset_dir>/\n",
                "        data/\n",
                "            <filename0>.<ext>\n",
                "            <filename1>.<ext>\n",
                "            ...\n",
                "        labels.json\n",
                "\n",
                "    We convert the json to kili format.\n",
                "    \"\"\"\n",
                "    mapping_external_id_to_semanticjob: Dict[str, SemanticJob] = {}\n",
                "\n",
                "    print(\"Nb categories\", len(coco_format[\"categories\"]))\n",
                "    print(\"Nb annotations\", len(coco_format[\"annotations\"]))\n",
                "    print(\"Nb images\", len(coco_format[\"images\"]))\n",
                "\n",
                "    for coco_annotation in coco_format[\"annotations\"]:\n",
                "        # Extract Coco info\n",
                "        category_names = [\n",
                "            cat[\"name\"] for cat in coco_format[\"categories\"] if cat[\"id\"] == coco_annotation[\"category_id\"]\n",
                "        ]\n",
                "        assert len(category_names) == 1\n",
                "        category_name = category_names[0]\n",
                "\n",
                "        image_names = [\n",
                "            image\n",
                "            for image in coco_format[\"images\"]\n",
                "            if image[\"id\"] == coco_annotation[\"image_id\"]\n",
                "        ]\n",
                "        assert len(image_names) == 1\n",
                "        external_id = image_names[0][\"file_name\"]\n",
                "        height, width = image_names[0][\"height\"], image_names[0][\"width\"]\n",
                "\n",
                "        # convert to Kili\n",
                "        # Each connected component becones a new object in Kili format\n",
                "        connected_components  : List[SemanticAnnotation]= []\n",
                "        for single_connected_component in coco_annotation[\"segmentation\"]:\n",
                "            tab_xy = single_connected_component  # We take only the first connected component\n",
                "            if type(tab_xy) != list:\n",
                "                # print(single_connected_component)\n",
                "                continue\n",
                "            tab_x = list(np.array(tab_xy[::2]) / width )\n",
                "            tab_y = list(np.array(tab_xy[1::2]) / height )\n",
                "\n",
                "            normalizedVertices: NormalizedVertices = {\n",
                "                \"normalizedVertices\": [NormalizedVertice(x=x, y=y) for x, y in zip(tab_x, tab_y)]\n",
                "            }\n",
                "            boundingPoly = [normalizedVertices]\n",
                "            categories = [CategoryT(name=category_name, confidence=100)]\n",
                "\n",
                "            annotation_kili = SemanticAnnotation(\n",
                "                boundingPoly=boundingPoly,\n",
                "                mid=None,# type:ignore  # Created on the fly\n",
                "                type=\"semantic\",\n",
                "                categories=categories,\n",
                "            )\n",
                "            connected_components.append(annotation_kili)\n",
                "        if external_id not in mapping_external_id_to_semanticjob:\n",
                "            mapping_external_id_to_semanticjob[external_id] = SemanticJob(annotations=connected_components)\n",
                "        else:\n",
                "            previous_annotatations = mapping_external_id_to_semanticjob[external_id][\"annotations\"]\n",
                "            mapping_external_id_to_semanticjob[external_id] = SemanticJob(annotations=previous_annotatations + connected_components)\n",
                "\n",
                "    return mapping_external_id_to_semanticjob\n",
                "\n",
                "\n",
                "def convert_coco_to_kili_json_interface(coco_format: CocoFormat):\n",
                "    \"\"\"\n",
                "    Coco format:\n",
                "    <dataset_dir>/\n",
                "        data/\n",
                "            <filename0>.<ext>\n",
                "            <filename1>.<ext>\n",
                "            ...\n",
                "        labels.json\n",
                "\n",
                "    We convert the json to kili format.\n",
                "    \"\"\"\n",
                "    coco_categories = coco_format[\"categories\"]\n",
                "\n",
                "    import random\n",
                "\n",
                "    number_of_colors = len(coco_categories)\n",
                "\n",
                "    colors = [\n",
                "        \"#\" + \"\".join([random.choice(\"0123456789ABCDEF\") for __ in range(6)])\n",
                "        for _ in range(number_of_colors)\n",
                "    ]\n",
                "\n",
                "    def camelCase(st):\n",
                "        output = \"\".join(x for x in st.title() if x.isalnum())\n",
                "        return output[0].lower() + output[1:]\n",
                "\n",
                "    categories = {\n",
                "        camelCase(cat[\"name\"]): {\n",
                "            \"children\": [],\n",
                "            \"name\": cat[\"name\"],\n",
                "            \"color\": color,\n",
                "            \"id\": cat[\"id\"],\n",
                "        }\n",
                "        for cat, color in zip(coco_categories, colors)\n",
                "    }\n",
                "\n",
                "    json_interface = {\n",
                "        \"jobs\": {\n",
                "            job_name: {\n",
                "                \"content\": {\"categories\": categories, \"input\": \"radio\"},\n",
                "                \"instruction\": \"Categories\",\n",
                "                \"isChild\": False,\n",
                "                \"tools\": [\"semantic\"],\n",
                "                \"mlTask\": \"OBJECT_DETECTION\",\n",
                "                \"models\": {\"interactive-segmentation\": {\"job\": job_name + \"_MARKER\"}},\n",
                "                \"isVisible\": True,\n",
                "                \"required\": 1,\n",
                "                \"isNew\": False,\n",
                "            },\n",
                "            job_name + \"_MARKER\": {\n",
                "                \"content\": {\"categories\": categories, \"input\": \"radio\"},\n",
                "                \"instruction\": \"Categories\",\n",
                "                \"isChild\": False,\n",
                "                \"tools\": [\"marker\"],\n",
                "                \"mlTask\": \"OBJECT_DETECTION\",\n",
                "                \"isModel\": True,\n",
                "                \"isVisible\": False,\n",
                "                \"required\": 0,\n",
                "                \"isNew\": False,\n",
                "            },\n",
                "        }\n",
                "    }\n",
                "\n",
                "    return json_interface\n"
            ]
        },
        {
            "cell_type": "code",
            "execution_count": 6,
            "metadata": {},
            "outputs": [
                {
                    "name": "stderr",
                    "output_type": "stream",
                    "text": [
                        "50it [09:24, 11.30s/it]\n"
                    ]
                },
                {
                    "data": {
                        "text/plain": [
                            "{'id': 'cl4wt3xp01vud0lwdb9qs2d2i'}"
                        ]
                    },
                    "execution_count": 6,
                    "metadata": {},
                    "output_type": "execute_result"
                }
            ],
            "source": [
                "from kili.client import Kili\n",
                "import json\n",
                "\n",
                "with open(dataset_dir + \"/raw/instances_val2017.json\", \"r\") as f:\n",
                "    coco_format = json.load(f)\n",
                "\n",
                "\n",
                "json_interface = convert_coco_to_kili_json_interface(coco_format=coco_format)\n",
                "\n",
                "LIMIT = 50\n",
                "\n",
                "assets = [\n",
                "    {\n",
                "        \"externalId\": asset[\"file_name\"],\n",
                "        \"content\": dataset_dir + \"/validation/data/\" + asset[\"file_name\"],\n",
                "        \"metadata\": {},\n",
                "    }\n",
                "    for asset in coco_format[\"images\"][:LIMIT]\n",
                "]\n",
                "\n",
                "kili = Kili()\n",
                "\n",
                "# Create project\n",
                "project = kili.create_project(\n",
                "    input_type=\"IMAGE\",\n",
                "    json_interface=json_interface,\n",
                "    title=\"Coco to Kili\",\n",
                "    description=\"\",\n",
                "    project_type=None,\n",
                ")\n",
                "project_id = project[\"id\"] # type:ignore\n",
                "\n",
                "# Add assets\n",
                "external_id_array = [a.get(\"externalId\") for a in assets]\n",
                "content_array = [a.get(\"content\") for a in assets]\n",
                "json_metadata_array = [a.get(\"metadata\") for a in assets]\n",
                "kili.append_many_to_dataset(\n",
                "    project_id=project_id,\n",
                "    content_array=content_array,# type:ignore\n",
                "    external_id_array=external_id_array,# type:ignore\n",
                "    json_metadata_array=json_metadata_array,# type:ignore\n",
                ")"
            ]
        },
        {
            "cell_type": "code",
            "execution_count": 7,
            "metadata": {},
            "outputs": [
                {
                    "name": "stdout",
                    "output_type": "stream",
                    "text": [
                        "Nb categories 80\n",
                        "Nb annotations 36781\n",
                        "Nb images 5000\n"
                    ]
                },
                {
                    "name": "stderr",
                    "output_type": "stream",
                    "text": [
                        "100%|██████████| 1000/1000 [00:02<00:00, 409.59it/s]\n",
                        "27it [00:03, 10.21it/s]"
                    ]
                },
                {
                    "name": "stdout",
                    "output_type": "stream",
                    "text": [
                        "Warning 000000226111.jpg\n"
                    ]
                },
                {
                    "name": "stderr",
                    "output_type": "stream",
                    "text": [
                        "31it [00:04, 10.36it/s]"
                    ]
                },
                {
                    "name": "stdout",
                    "output_type": "stream",
                    "text": [
                        "Warning 000000058636.jpg\n"
                    ]
                },
                {
                    "name": "stderr",
                    "output_type": "stream",
                    "text": [
                        "162it [00:21, 10.06it/s]"
                    ]
                },
                {
                    "name": "stdout",
                    "output_type": "stream",
                    "text": [
                        "Warning 000000458790.jpg\n"
                    ]
                },
                {
                    "name": "stderr",
                    "output_type": "stream",
                    "text": [
                        "280it [00:38,  9.49it/s]"
                    ]
                },
                {
                    "name": "stdout",
                    "output_type": "stream",
                    "text": [
                        "Warning 000000461275.jpg\n"
                    ]
                },
                {
                    "name": "stderr",
                    "output_type": "stream",
                    "text": [
                        "405it [00:57,  5.79it/s]"
                    ]
                },
                {
                    "name": "stdout",
                    "output_type": "stream",
                    "text": [
                        "Warning 000000268996.jpg\n"
                    ]
                },
                {
                    "name": "stderr",
                    "output_type": "stream",
                    "text": [
                        "438it [01:03,  7.73it/s]"
                    ]
                },
                {
                    "name": "stdout",
                    "output_type": "stream",
                    "text": [
                        "Warning 000000370999.jpg\n"
                    ]
                },
                {
                    "name": "stderr",
                    "output_type": "stream",
                    "text": [
                        "759it [01:58,  8.24it/s]"
                    ]
                },
                {
                    "name": "stdout",
                    "output_type": "stream",
                    "text": [
                        "Warning 000000481404.jpg\n"
                    ]
                },
                {
                    "name": "stderr",
                    "output_type": "stream",
                    "text": [
                        "1000it [02:42,  6.16it/s]\n"
                    ]
                }
            ],
            "source": [
                "from tqdm import tqdm\n",
                "\n",
                "\n",
                "mapping_external_id_to_semanticjob = convert_coco_to_kili(coco_format=coco_format)\n",
                "asset_ids = kili.assets(project_id=project_id, fields=[\"id\", \"externalId\"], first=1000)\n",
                "\n",
                "for i, asset_id in tqdm(enumerate(asset_ids), total=len(asset_ids)):\n",
                "    external_id = asset_id[\"externalId\"]\n",
                "\n",
                "    if external_id in mapping_external_id_to_semanticjob:\n",
                "        semantic_job = mapping_external_id_to_semanticjob[external_id]\n",
                "\n",
                "        # print(f\"Nb annotation on image {external_id}\", len(semantic_job[\"annotations\"]))\n",
                "        kili.append_to_labels(\n",
                "            label_asset_id=asset_id[\"id\"],\n",
                "            json_response={\"SEMANTIC_JOB\": SemanticJob(annotations=semantic_job[\"annotations\"])},\n",
                "        )\n",
                "    else:\n",
                "        print(\"Warning\", external_id)\n"
            ]
        },
        {
            "cell_type": "code",
            "execution_count": 5,
            "metadata": {},
            "outputs": [
                {
                    "name": "stdout",
                    "output_type": "stream",
                    "text": [
                        "https://cloud.kili-technology.com/label/projects/cl4wt2o501yvu0mtg23og3vqp/menu/queue?currentPage=1&pageSize=20\n"
                    ]
                }
            ],
            "source": [
                "KILI_URL=\"https://cloud.kili-technology.com/\"\n",
                "print(f\"{KILI_URL}label/projects/{project_id}/menu/queue?currentPage=1&pageSize=20\")"
            ]
        },
        {
            "cell_type": "code",
            "execution_count": 9,
            "metadata": {},
            "outputs": [
                {
                    "data": {
                        "text/plain": [
                            "('cl4wt3xp01vud0lwdb9qs2d2i', 'SEMANTIC_JOB')"
                        ]
                    },
                    "execution_count": 9,
                    "metadata": {},
                    "output_type": "execute_result"
                }
            ],
            "source": [
                "project_id, job_name"
            ]
        },
        {
            "cell_type": "code",
            "execution_count": null,
            "metadata": {},
            "outputs": [],
            "source": []
        }
    ],
    "metadata": {
        "interpreter": {
            "hash": "37d8dd270ea1ec021ed49bdd871bce097f891a4c23e8c01586bb4ea6d802e97e"
        },
        "kernelspec": {
            "display_name": "Python 3.7.13 ('automl37')",
            "language": "python",
            "name": "python3"
        },
        "language_info": {
            "codemirror_mode": {
                "name": "ipython",
                "version": 3
            },
            "file_extension": ".py",
            "mimetype": "text/x-python",
            "name": "python",
            "nbconvert_exporter": "python",
            "pygments_lexer": "ipython3",
            "version": "3.7.12"
        },
        "orig_nbformat": 4
    },
    "nbformat": 4,
    "nbformat_minor": 2
}
