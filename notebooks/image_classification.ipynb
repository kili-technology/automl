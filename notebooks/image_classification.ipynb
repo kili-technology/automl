{
 "cells": [
  {
   "cell_type": "markdown",
   "metadata": {
    "colab_type": "text",
    "id": "view-in-github"
   },
   "source": [
    "<a href=\"https://colab.research.google.com/github/PierreLeveau/automl/blob/main/notebooks/image_classification.ipynb\" target=\"_parent\"><img src=\"https://colab.research.google.com/assets/colab-badge.svg\" alt=\"Open In Colab\"/></a>"
   ]
  },
  {
   "cell_type": "markdown",
   "metadata": {
    "id": "zYG5RYRUBaA7"
   },
   "source": [
    "# Image Classification Using AutoML"
   ]
  },
  {
   "cell_type": "markdown",
   "metadata": {
    "id": "GpmLGl2pBaA_"
   },
   "source": [
    "In this notebook, we will see how we can simply create an image classification model with AutoML to pre-annotate our dataset on the [Kili Platform](https://cloud.kili-technology.com/label/)."
   ]
  },
  {
   "cell_type": "markdown",
   "metadata": {
    "id": "KrezIAheBaBA"
   },
   "source": [
    "## Install"
   ]
  },
  {
   "cell_type": "markdown",
   "metadata": {
    "id": "8_zB5lXPBaBA"
   },
   "source": [
    "We first follow the install procedure explained in the [README.md](https://github.com/kili-technology/automl/blob/main/README.md). "
   ]
  },
  {
   "cell_type": "code",
   "execution_count": null,
   "metadata": {
    "colab": {
     "base_uri": "https://localhost:8080/"
    },
    "id": "n7gjiRZhBaBD",
    "outputId": "54dc7c97-f1fb-4a47-ce83-8a38f1f4d57a"
   },
   "outputs": [],
   "source": [
    "!git clone https://github.com/kili-technology/automl.git"
   ]
  },
  {
   "cell_type": "code",
   "execution_count": null,
   "metadata": {
    "colab": {
     "base_uri": "https://localhost:8080/"
    },
    "id": "myizMhqQBaBE",
    "outputId": "6f6b79d1-627c-406c-9275-652349620da9"
   },
   "outputs": [],
   "source": [
    "%cd automl\n"
   ]
  },
  {
   "cell_type": "markdown",
   "metadata": {
    "id": "W0B2Ew9opfdW"
   },
   "source": [
    "Install the packages. This should take less than a minute. "
   ]
  },
  {
   "cell_type": "code",
   "execution_count": null,
   "metadata": {
    "id": "S3KdozTHBaBE"
   },
   "outputs": [],
   "source": [
    "%%capture\n",
    "!git submodule update --init\n",
    "!pip install -r requirements.txt -r kiliautoml/utils/ultralytics/yolov5/requirements.txt\n",
    "!pip install -e .\n",
    "!pip install kili"
   ]
  },
  {
   "cell_type": "markdown",
   "metadata": {
    "id": "sUgY-iz6BaBI"
   },
   "source": [
    "## Imports"
   ]
  },
  {
   "cell_type": "code",
   "execution_count": null,
   "metadata": {
    "id": "y3u_I9GABaBJ"
   },
   "outputs": [],
   "source": [
    "import os\n",
    "from getpass import getpass\n",
    "from tqdm.autonotebook import tqdm\n",
    "\n",
    "from kili.client import Kili"
   ]
  },
  {
   "cell_type": "markdown",
   "metadata": {
    "id": "FJ3Mt1dzpBvu"
   },
   "source": [
    "Setup the python PATH to use kiliautoml."
   ]
  },
  {
   "cell_type": "code",
   "execution_count": null,
   "metadata": {
    "id": "D4u8PlTQpFSc"
   },
   "outputs": [],
   "source": [
    "KILI_URL=\"https://cloud.kili-technology.com/\"\n",
    "os.environ[\"PYTHONPATH\"] += \":/content/automl/\""
   ]
  },
  {
   "cell_type": "markdown",
   "metadata": {
    "id": "E8Kowm7HBaBI"
   },
   "source": [
    "After getting your API key from the Kili platform, you can setup your environment variables."
   ]
  },
  {
   "cell_type": "code",
   "execution_count": null,
   "metadata": {
    "colab": {
     "base_uri": "https://localhost:8080/"
    },
    "id": "VAR3u1wZBaBI",
    "outputId": "e42d3c67-b017-4b26-c1f3-67cc0488cbe7"
   },
   "outputs": [],
   "source": [
    "api_key = getpass(\"Add your API Key here: \")\n",
    "api_endpoint = f\"{KILI_URL}api/label/v2/graphql\" # If you are not using Kili SaaS, change the endpoint to your configuration"
   ]
  },
  {
   "cell_type": "markdown",
   "metadata": {
    "id": "5sxrmNqCBaBJ"
   },
   "source": [
    "## Setup a mock Kili project"
   ]
  },
  {
   "cell_type": "markdown",
   "metadata": {
    "id": "mM-vWnpFBaBK"
   },
   "source": [
    "Setup the kili connection."
   ]
  },
  {
   "cell_type": "code",
   "execution_count": null,
   "metadata": {
    "id": "3piQsuK-BaBK"
   },
   "outputs": [],
   "source": [
    "kili = Kili(api_key=api_key, api_endpoint=api_endpoint)"
   ]
  },
  {
   "cell_type": "markdown",
   "metadata": {
    "id": "pz8CpvSriJJs"
   },
   "source": [
    "### Create the project"
   ]
  },
  {
   "cell_type": "code",
   "execution_count": null,
   "metadata": {
    "id": "qua2QqZiBaBL"
   },
   "outputs": [],
   "source": [
    "json_interface = {\n",
    "    \"jobRendererWidth\": 0.2,\n",
    "    \"jobs\": {\n",
    "        \"CLASSIFICATION_JOB\": {\n",
    "            \"mlTask\": \"CLASSIFICATION\",\n",
    "            \"content\": {\n",
    "                \"categories\": {\n",
    "                    \"VEHICLE\": {\n",
    "                        \"name\": \"vehicle\"\n",
    "                    },\n",
    "                    \"NON_VEHICLE\": {\n",
    "                        \"name\": \"non vehicle\"\n",
    "                    }\n",
    "                },\n",
    "                \"input\": \"radio\"\n",
    "            },\n",
    "            \"required\": 0,\n",
    "            \"isChild\": False,\n",
    "            \"instruction\": \"Class of vehicle presence\"\n",
    "        }\n",
    "    }\n",
    "}"
   ]
  },
  {
   "cell_type": "code",
   "execution_count": null,
   "metadata": {
    "id": "aHEB9NF5BaBL"
   },
   "outputs": [],
   "source": [
    "project_id = kili.create_project(\n",
    "        title=\"Vehicle Classification\",\n",
    "        description=\"Classify vehicle presence\",\n",
    "        input_type=\"IMAGE\",\n",
    "        json_interface=json_interface\n",
    ")[\"id\"]"
   ]
  },
  {
   "cell_type": "markdown",
   "metadata": {
    "id": "OnFCYRs0fxU-"
   },
   "source": [
    "### Add assets"
   ]
  },
  {
   "cell_type": "code",
   "execution_count": null,
   "metadata": {
    "id": "gdBqgt3cBaBK"
   },
   "outputs": [],
   "source": [
    "vehicle_assets = [\n",
    "    {\n",
    "        \"externalId\": f\"{i}\",\n",
    "        \"content\": f\"https://storage.googleapis.com/kili-machine-learning-automl/notebooks/vehicle_classification/vehicles/image_{i}.png\",\n",
    "        \"metadata\": {}\n",
    "    }\n",
    "    for i in range(500)\n",
    "]\n",
    "non_vehicle_assets = [\n",
    "    {\n",
    "        \"externalId\": f\"{len(vehicle_assets) + i}\",\n",
    "        \"content\": f\"https://storage.googleapis.com/kili-machine-learning-automl/notebooks/vehicle_classification/non-vehicles/image_{i}.png\",\n",
    "        \"metadata\": {}\n",
    "    }\n",
    "    for i in range(500)\n",
    "]\n",
    "assets_to_import = vehicle_assets + non_vehicle_assets"
   ]
  },
  {
   "cell_type": "markdown",
   "metadata": {
    "id": "V0rJ5DUcBaBL"
   },
   "source": [
    "Now we send the data to our Kili project."
   ]
  },
  {
   "cell_type": "code",
   "execution_count": null,
   "metadata": {
    "colab": {
     "base_uri": "https://localhost:8080/"
    },
    "id": "j6eKQeZ6fzOG",
    "outputId": "a3912adb-5dd7-4b43-fcde-29a3b81aef42"
   },
   "outputs": [],
   "source": [
    "external_id_array = [a.get(\"externalId\") for a in assets_to_import]\n",
    "content_array = [a.get(\"content\") for a in assets_to_import]\n",
    "json_metadata_array = [a.get(\"metadata\") for a in assets_to_import]\n",
    "kili.append_many_to_dataset(project_id=project_id, \n",
    "                            content_array=content_array,\n",
    "                            external_id_array=external_id_array, \n",
    "                            json_metadata_array=json_metadata_array)"
   ]
  },
  {
   "cell_type": "markdown",
   "metadata": {
    "id": "IhfaOkxrBaBM"
   },
   "source": [
    "### Add labels to assets"
   ]
  },
  {
   "cell_type": "markdown",
   "metadata": {
    "id": "L2tIiWEPHTo4"
   },
   "source": [
    "We add labels to half of the data to simulate a project where we haven't labeled much data and we want to predict the labels of the unlabeled data. "
   ]
  },
  {
   "cell_type": "code",
   "execution_count": null,
   "metadata": {
    "colab": {
     "base_uri": "https://localhost:8080/",
     "height": 67,
     "referenced_widgets": [
      "04777e1d60864f9db52a04584976ab4a",
      "90532c73edce4865809ff4670f71a622",
      "92776c3f99894fd28c2684a4dfb40404",
      "64808c979dc945598bdd747dbba4c691",
      "e84aff33e07143a397e0a09cbdcb94a5",
      "c8f5d373e1dc44b69113e43e6b6d33da",
      "9064495e8a9a4335ae0f733dff3dc8d2",
      "d6605149a467450886f538e9c53e2579",
      "4b62c067049643fa98e1cf74df216ad7",
      "05706e7b3db9479881ae60d7b6035018",
      "3afc9f9bdd1c4ef7b5e451dd7d65d75c"
     ]
    },
    "id": "2L6UIq93BaBM",
    "outputId": "c80bd43a-db08-43ff-f97f-5684d09967b1"
   },
   "outputs": [],
   "source": [
    "asset_ids = kili.assets(project_id=project_id, fields=[\"id\", \"externalId\"], first=1000)\n",
    "\n",
    "for asset_id in tqdm(asset_ids):\n",
    "    external_id = int(asset_id[\"externalId\"])\n",
    "    if external_id < 300:\n",
    "        kili.append_to_labels(label_asset_id=asset_id[\"id\"],\n",
    "                              json_response={\n",
    "                                  \"CLASSIFICATION_JOB\": {\n",
    "                                      \"categories\": [{\"name\": \"VEHICLE\"}]\n",
    "                                  }\n",
    "                              })\n",
    "\n",
    "    elif 499 < external_id < 800:\n",
    "        kili.append_to_labels(label_asset_id=asset_id[\"id\"],\n",
    "                              json_response={\n",
    "                                  \"CLASSIFICATION_JOB\": {\n",
    "                                      \"categories\": [{\"name\": \"NON_VEHICLE\"}]\n",
    "                                  }\n",
    "                              })\n",
    "    else:\n",
    "        pass"
   ]
  },
  {
   "cell_type": "markdown",
   "metadata": {
    "id": "dd3qerFeO7Rt"
   },
   "source": [
    "You can now click on the following link to see the assets in your project:"
   ]
  },
  {
   "cell_type": "code",
   "execution_count": null,
   "metadata": {
    "colab": {
     "base_uri": "https://localhost:8080/"
    },
    "id": "r31azkPdO66e",
    "outputId": "90b087f8-056f-4f83-db95-ccaac7e18f86"
   },
   "outputs": [],
   "source": [
    "print(f\"{KILI_URL}label/projects/{project_id}/menu/queue?currentPage=1&pageSize=20\")"
   ]
  },
  {
   "cell_type": "markdown",
   "metadata": {
    "id": "0tOtfBaABaBN"
   },
   "source": [
    "## Training a image classifier with Kiliautoml"
   ]
  },
  {
   "cell_type": "markdown",
   "metadata": {
    "id": "iqfddWnUG_R1"
   },
   "source": [
    "The following command will automatically download the labeled data in your Kili project. Then, it will choose the right model for your task, train it with this data and save it locally."
   ]
  },
  {
   "cell_type": "code",
   "execution_count": null,
   "metadata": {
    "colab": {
     "base_uri": "https://localhost:8080/"
    },
    "id": "-uwLPjF9BaBN",
    "outputId": "5d2f25bc-00a0-4c7c-d9ce-1eadac87c49d"
   },
   "outputs": [],
   "source": [
    "!kiliautoml train \\\n",
    "    --api-key {api_key} \\\n",
    "    --project-id {project_id} \\\n",
    "    --epochs 30"
   ]
  },
  {
   "cell_type": "markdown",
   "metadata": {
    "id": "fda-qEzgBaBN"
   },
   "source": [
    "### Send predictions"
   ]
  },
  {
   "cell_type": "markdown",
   "metadata": {
    "id": "jMdUHgsOqQS_"
   },
   "source": [
    "Now we can use our local trained model to predict the classes of our image assets and send the prediction scores to the project on Kili. These preannotations can then be validated or corrected by annotators."
   ]
  },
  {
   "cell_type": "code",
   "execution_count": null,
   "metadata": {
    "colab": {
     "base_uri": "https://localhost:8080/"
    },
    "id": "lud1i-v9BaBN",
    "outputId": "23b8be37-2ed1-4596-bb62-a11e9526e9ae"
   },
   "outputs": [],
   "source": [
    "!kiliautoml predict \\\n",
    "    --api-key {api_key} \\\n",
    "    --project-id {project_id}"
   ]
  },
  {
   "cell_type": "markdown",
   "metadata": {
    "id": "fyPzfujpqiXv"
   },
   "source": [
    "Now you can ckeck that your assets have predictions on [Kili](https://cloud.kili-technology.com/)!"
   ]
  },
  {
   "cell_type": "code",
   "execution_count": null,
   "metadata": {
    "id": "sgH92N1CLn55"
   },
   "outputs": [],
   "source": [
    "print(f\"{KILI_URL}label/projects/{project_id}/menu/queue?currentPage=1&pageSize=20\")"
   ]
  },
  {
   "cell_type": "markdown",
   "metadata": {
    "id": "dBIYa5GVBaBN"
   },
   "source": [
    "### Label Errors"
   ]
  },
  {
   "cell_type": "markdown",
   "metadata": {
    "id": "F-bjSezE_iGi"
   },
   "source": [
    "You can add wrong labels to a small portion of the data to simulate a project where some data is incorrectly labeled. \n"
   ]
  },
  {
   "cell_type": "code",
   "execution_count": null,
   "metadata": {
    "colab": {
     "base_uri": "https://localhost:8080/",
     "height": 67,
     "referenced_widgets": [
      "736dd37287df4f8dbfab77469741dc87",
      "7cd88ba91ce648b998b7f4e8c8d90c93",
      "463f36759b1a43ee9b46f7ee055c389d",
      "c624defc6d0840ffa27a4c985cba8e3f",
      "164b227894b7437c8c6e332d7a913ea9",
      "f80b2ebe44424dc9ace7b4e2af6a170a",
      "54113bad8329474db3b9ae05d863e14a",
      "cbfc3894fa93462094c920064eab9592",
      "530c39504d1443edbd060f1c2f8e41d5",
      "9b46176d7f494c30928f56961eff54c7",
      "cdd21b6a66f44be3aa62678b852f19da"
     ]
    },
    "id": "ja5jAvzd_iGi",
    "outputId": "13398955-89e1-476a-f8ac-840a2b882aec"
   },
   "outputs": [],
   "source": [
    "asset_ids = kili.assets(project_id=project_id, fields=[\"id\", \"externalId\"])\n",
    "\n",
    "for asset_id in tqdm(asset_ids):\n",
    "    external_id = int(asset_id[\"externalId\"])\n",
    "    if 299 < external_id < 310:\n",
    "        kili.append_to_labels(label_asset_id=asset_id[\"id\"],\n",
    "                              json_response={\n",
    "                                  \"CLASSIFICATION_JOB\": {\n",
    "                                      \"categories\": [{\"name\": \"NON_VEHICLE\"}]\n",
    "                                  }\n",
    "                              })\n",
    "\n",
    "    elif 799 < external_id < 810:\n",
    "        kili.append_to_labels(label_asset_id=asset_id[\"id\"],\n",
    "                              json_response={\n",
    "                                  \"CLASSIFICATION_JOB\": {\n",
    "                                      \"categories\": [{\"name\": \"VEHICLE\"}]\n",
    "                                  }\n",
    "                              })\n",
    "    else:\n",
    "        pass"
   ]
  },
  {
   "cell_type": "markdown",
   "metadata": {
    "id": "TVlA4PaLrjO0"
   },
   "source": [
    "This command analyses the labeled data to detect potential labeling errors and sends warnings to the concerned assets. The user can then use the `potential_label_error` filter on the project's asset exploration to find the potentially problematic assets."
   ]
  },
  {
   "cell_type": "code",
   "execution_count": null,
   "metadata": {
    "colab": {
     "base_uri": "https://localhost:8080/"
    },
    "id": "EFW4cfEHBaBN",
    "outputId": "8642aadf-e6d8-45e5-a460-faf80c5206ef"
   },
   "outputs": [],
   "source": [
    "!kiliautoml label_errors \\\n",
    "    --api-key {api_key} \\\n",
    "    --project-id {project_id}"
   ]
  },
  {
   "cell_type": "markdown",
   "metadata": {
    "id": "_7xofUWD_iGj"
   },
   "source": [
    "You can see in the project that several uncorrectly labeled images have been spotted."
   ]
  },
  {
   "cell_type": "code",
   "execution_count": null,
   "metadata": {
    "colab": {
     "base_uri": "https://localhost:8080/"
    },
    "id": "LLYUoSQdPzkr",
    "outputId": "4eef4f02-b451-454e-fa33-66d66006f67f"
   },
   "outputs": [],
   "source": [
    "print(f\"{KILI_URL}label/projects/{project_id}/menu/queue?currentPage=1&metadata%5Blabeling_error%5D=true&pageSize=20\")"
   ]
  }
 ],
 "metadata": {
  "accelerator": "GPU",
  "colab": {
   "include_colab_link": true,
   "name": "Copie de image_classification.ipynb",
   "provenance": []
  },
  "interpreter": {
   "hash": "449e565a27a23acd15c32e769a07661ae193905e7f288056cccc0b6a403de553"
  },
  "kernelspec": {
   "display_name": "Python 3.9.12 ('automl')",
   "language": "python",
   "name": "python3"
  },
  "language_info": {
   "codemirror_mode": {
    "name": "ipython",
    "version": 3
   },
   "file_extension": ".py",
   "mimetype": "text/x-python",
   "name": "python",
   "nbconvert_exporter": "python",
   "pygments_lexer": "ipython3",
   "version": "3.7.13"
  },
  "widgets": {
   "application/vnd.jupyter.widget-state+json": {
    "04777e1d60864f9db52a04584976ab4a": {
     "model_module": "@jupyter-widgets/controls",
     "model_module_version": "1.5.0",
     "model_name": "HBoxModel",
     "state": {
      "_dom_classes": [],
      "_model_module": "@jupyter-widgets/controls",
      "_model_module_version": "1.5.0",
      "_model_name": "HBoxModel",
      "_view_count": null,
      "_view_module": "@jupyter-widgets/controls",
      "_view_module_version": "1.5.0",
      "_view_name": "HBoxView",
      "box_style": "",
      "children": [
       "IPY_MODEL_90532c73edce4865809ff4670f71a622",
       "IPY_MODEL_92776c3f99894fd28c2684a4dfb40404",
       "IPY_MODEL_64808c979dc945598bdd747dbba4c691"
      ],
      "layout": "IPY_MODEL_e84aff33e07143a397e0a09cbdcb94a5"
     }
    },
    "05706e7b3db9479881ae60d7b6035018": {
     "model_module": "@jupyter-widgets/base",
     "model_module_version": "1.2.0",
     "model_name": "LayoutModel",
     "state": {
      "_model_module": "@jupyter-widgets/base",
      "_model_module_version": "1.2.0",
      "_model_name": "LayoutModel",
      "_view_count": null,
      "_view_module": "@jupyter-widgets/base",
      "_view_module_version": "1.2.0",
      "_view_name": "LayoutView",
      "align_content": null,
      "align_items": null,
      "align_self": null,
      "border": null,
      "bottom": null,
      "display": null,
      "flex": null,
      "flex_flow": null,
      "grid_area": null,
      "grid_auto_columns": null,
      "grid_auto_flow": null,
      "grid_auto_rows": null,
      "grid_column": null,
      "grid_gap": null,
      "grid_row": null,
      "grid_template_areas": null,
      "grid_template_columns": null,
      "grid_template_rows": null,
      "height": null,
      "justify_content": null,
      "justify_items": null,
      "left": null,
      "margin": null,
      "max_height": null,
      "max_width": null,
      "min_height": null,
      "min_width": null,
      "object_fit": null,
      "object_position": null,
      "order": null,
      "overflow": null,
      "overflow_x": null,
      "overflow_y": null,
      "padding": null,
      "right": null,
      "top": null,
      "visibility": null,
      "width": null
     }
    },
    "164b227894b7437c8c6e332d7a913ea9": {
     "model_module": "@jupyter-widgets/base",
     "model_module_version": "1.2.0",
     "model_name": "LayoutModel",
     "state": {
      "_model_module": "@jupyter-widgets/base",
      "_model_module_version": "1.2.0",
      "_model_name": "LayoutModel",
      "_view_count": null,
      "_view_module": "@jupyter-widgets/base",
      "_view_module_version": "1.2.0",
      "_view_name": "LayoutView",
      "align_content": null,
      "align_items": null,
      "align_self": null,
      "border": null,
      "bottom": null,
      "display": null,
      "flex": null,
      "flex_flow": null,
      "grid_area": null,
      "grid_auto_columns": null,
      "grid_auto_flow": null,
      "grid_auto_rows": null,
      "grid_column": null,
      "grid_gap": null,
      "grid_row": null,
      "grid_template_areas": null,
      "grid_template_columns": null,
      "grid_template_rows": null,
      "height": null,
      "justify_content": null,
      "justify_items": null,
      "left": null,
      "margin": null,
      "max_height": null,
      "max_width": null,
      "min_height": null,
      "min_width": null,
      "object_fit": null,
      "object_position": null,
      "order": null,
      "overflow": null,
      "overflow_x": null,
      "overflow_y": null,
      "padding": null,
      "right": null,
      "top": null,
      "visibility": null,
      "width": null
     }
    },
    "3afc9f9bdd1c4ef7b5e451dd7d65d75c": {
     "model_module": "@jupyter-widgets/controls",
     "model_module_version": "1.5.0",
     "model_name": "DescriptionStyleModel",
     "state": {
      "_model_module": "@jupyter-widgets/controls",
      "_model_module_version": "1.5.0",
      "_model_name": "DescriptionStyleModel",
      "_view_count": null,
      "_view_module": "@jupyter-widgets/base",
      "_view_module_version": "1.2.0",
      "_view_name": "StyleView",
      "description_width": ""
     }
    },
    "463f36759b1a43ee9b46f7ee055c389d": {
     "model_module": "@jupyter-widgets/controls",
     "model_module_version": "1.5.0",
     "model_name": "FloatProgressModel",
     "state": {
      "_dom_classes": [],
      "_model_module": "@jupyter-widgets/controls",
      "_model_module_version": "1.5.0",
      "_model_name": "FloatProgressModel",
      "_view_count": null,
      "_view_module": "@jupyter-widgets/controls",
      "_view_module_version": "1.5.0",
      "_view_name": "ProgressView",
      "bar_style": "success",
      "description": "",
      "description_tooltip": null,
      "layout": "IPY_MODEL_cbfc3894fa93462094c920064eab9592",
      "max": 1000,
      "min": 0,
      "orientation": "horizontal",
      "style": "IPY_MODEL_530c39504d1443edbd060f1c2f8e41d5",
      "value": 1000
     }
    },
    "4b62c067049643fa98e1cf74df216ad7": {
     "model_module": "@jupyter-widgets/controls",
     "model_module_version": "1.5.0",
     "model_name": "ProgressStyleModel",
     "state": {
      "_model_module": "@jupyter-widgets/controls",
      "_model_module_version": "1.5.0",
      "_model_name": "ProgressStyleModel",
      "_view_count": null,
      "_view_module": "@jupyter-widgets/base",
      "_view_module_version": "1.2.0",
      "_view_name": "StyleView",
      "bar_color": null,
      "description_width": ""
     }
    },
    "530c39504d1443edbd060f1c2f8e41d5": {
     "model_module": "@jupyter-widgets/controls",
     "model_module_version": "1.5.0",
     "model_name": "ProgressStyleModel",
     "state": {
      "_model_module": "@jupyter-widgets/controls",
      "_model_module_version": "1.5.0",
      "_model_name": "ProgressStyleModel",
      "_view_count": null,
      "_view_module": "@jupyter-widgets/base",
      "_view_module_version": "1.2.0",
      "_view_name": "StyleView",
      "bar_color": null,
      "description_width": ""
     }
    },
    "54113bad8329474db3b9ae05d863e14a": {
     "model_module": "@jupyter-widgets/controls",
     "model_module_version": "1.5.0",
     "model_name": "DescriptionStyleModel",
     "state": {
      "_model_module": "@jupyter-widgets/controls",
      "_model_module_version": "1.5.0",
      "_model_name": "DescriptionStyleModel",
      "_view_count": null,
      "_view_module": "@jupyter-widgets/base",
      "_view_module_version": "1.2.0",
      "_view_name": "StyleView",
      "description_width": ""
     }
    },
    "64808c979dc945598bdd747dbba4c691": {
     "model_module": "@jupyter-widgets/controls",
     "model_module_version": "1.5.0",
     "model_name": "HTMLModel",
     "state": {
      "_dom_classes": [],
      "_model_module": "@jupyter-widgets/controls",
      "_model_module_version": "1.5.0",
      "_model_name": "HTMLModel",
      "_view_count": null,
      "_view_module": "@jupyter-widgets/controls",
      "_view_module_version": "1.5.0",
      "_view_name": "HTMLView",
      "description": "",
      "description_tooltip": null,
      "layout": "IPY_MODEL_05706e7b3db9479881ae60d7b6035018",
      "placeholder": "​",
      "style": "IPY_MODEL_3afc9f9bdd1c4ef7b5e451dd7d65d75c",
      "value": " 1000/1000 [02:57&lt;00:00,  3.58it/s]"
     }
    },
    "736dd37287df4f8dbfab77469741dc87": {
     "model_module": "@jupyter-widgets/controls",
     "model_module_version": "1.5.0",
     "model_name": "HBoxModel",
     "state": {
      "_dom_classes": [],
      "_model_module": "@jupyter-widgets/controls",
      "_model_module_version": "1.5.0",
      "_model_name": "HBoxModel",
      "_view_count": null,
      "_view_module": "@jupyter-widgets/controls",
      "_view_module_version": "1.5.0",
      "_view_name": "HBoxView",
      "box_style": "",
      "children": [
       "IPY_MODEL_7cd88ba91ce648b998b7f4e8c8d90c93",
       "IPY_MODEL_463f36759b1a43ee9b46f7ee055c389d",
       "IPY_MODEL_c624defc6d0840ffa27a4c985cba8e3f"
      ],
      "layout": "IPY_MODEL_164b227894b7437c8c6e332d7a913ea9"
     }
    },
    "7cd88ba91ce648b998b7f4e8c8d90c93": {
     "model_module": "@jupyter-widgets/controls",
     "model_module_version": "1.5.0",
     "model_name": "HTMLModel",
     "state": {
      "_dom_classes": [],
      "_model_module": "@jupyter-widgets/controls",
      "_model_module_version": "1.5.0",
      "_model_name": "HTMLModel",
      "_view_count": null,
      "_view_module": "@jupyter-widgets/controls",
      "_view_module_version": "1.5.0",
      "_view_name": "HTMLView",
      "description": "",
      "description_tooltip": null,
      "layout": "IPY_MODEL_f80b2ebe44424dc9ace7b4e2af6a170a",
      "placeholder": "​",
      "style": "IPY_MODEL_54113bad8329474db3b9ae05d863e14a",
      "value": "100%"
     }
    },
    "90532c73edce4865809ff4670f71a622": {
     "model_module": "@jupyter-widgets/controls",
     "model_module_version": "1.5.0",
     "model_name": "HTMLModel",
     "state": {
      "_dom_classes": [],
      "_model_module": "@jupyter-widgets/controls",
      "_model_module_version": "1.5.0",
      "_model_name": "HTMLModel",
      "_view_count": null,
      "_view_module": "@jupyter-widgets/controls",
      "_view_module_version": "1.5.0",
      "_view_name": "HTMLView",
      "description": "",
      "description_tooltip": null,
      "layout": "IPY_MODEL_c8f5d373e1dc44b69113e43e6b6d33da",
      "placeholder": "​",
      "style": "IPY_MODEL_9064495e8a9a4335ae0f733dff3dc8d2",
      "value": "100%"
     }
    },
    "9064495e8a9a4335ae0f733dff3dc8d2": {
     "model_module": "@jupyter-widgets/controls",
     "model_module_version": "1.5.0",
     "model_name": "DescriptionStyleModel",
     "state": {
      "_model_module": "@jupyter-widgets/controls",
      "_model_module_version": "1.5.0",
      "_model_name": "DescriptionStyleModel",
      "_view_count": null,
      "_view_module": "@jupyter-widgets/base",
      "_view_module_version": "1.2.0",
      "_view_name": "StyleView",
      "description_width": ""
     }
    },
    "92776c3f99894fd28c2684a4dfb40404": {
     "model_module": "@jupyter-widgets/controls",
     "model_module_version": "1.5.0",
     "model_name": "FloatProgressModel",
     "state": {
      "_dom_classes": [],
      "_model_module": "@jupyter-widgets/controls",
      "_model_module_version": "1.5.0",
      "_model_name": "FloatProgressModel",
      "_view_count": null,
      "_view_module": "@jupyter-widgets/controls",
      "_view_module_version": "1.5.0",
      "_view_name": "ProgressView",
      "bar_style": "success",
      "description": "",
      "description_tooltip": null,
      "layout": "IPY_MODEL_d6605149a467450886f538e9c53e2579",
      "max": 1000,
      "min": 0,
      "orientation": "horizontal",
      "style": "IPY_MODEL_4b62c067049643fa98e1cf74df216ad7",
      "value": 1000
     }
    },
    "9b46176d7f494c30928f56961eff54c7": {
     "model_module": "@jupyter-widgets/base",
     "model_module_version": "1.2.0",
     "model_name": "LayoutModel",
     "state": {
      "_model_module": "@jupyter-widgets/base",
      "_model_module_version": "1.2.0",
      "_model_name": "LayoutModel",
      "_view_count": null,
      "_view_module": "@jupyter-widgets/base",
      "_view_module_version": "1.2.0",
      "_view_name": "LayoutView",
      "align_content": null,
      "align_items": null,
      "align_self": null,
      "border": null,
      "bottom": null,
      "display": null,
      "flex": null,
      "flex_flow": null,
      "grid_area": null,
      "grid_auto_columns": null,
      "grid_auto_flow": null,
      "grid_auto_rows": null,
      "grid_column": null,
      "grid_gap": null,
      "grid_row": null,
      "grid_template_areas": null,
      "grid_template_columns": null,
      "grid_template_rows": null,
      "height": null,
      "justify_content": null,
      "justify_items": null,
      "left": null,
      "margin": null,
      "max_height": null,
      "max_width": null,
      "min_height": null,
      "min_width": null,
      "object_fit": null,
      "object_position": null,
      "order": null,
      "overflow": null,
      "overflow_x": null,
      "overflow_y": null,
      "padding": null,
      "right": null,
      "top": null,
      "visibility": null,
      "width": null
     }
    },
    "c624defc6d0840ffa27a4c985cba8e3f": {
     "model_module": "@jupyter-widgets/controls",
     "model_module_version": "1.5.0",
     "model_name": "HTMLModel",
     "state": {
      "_dom_classes": [],
      "_model_module": "@jupyter-widgets/controls",
      "_model_module_version": "1.5.0",
      "_model_name": "HTMLModel",
      "_view_count": null,
      "_view_module": "@jupyter-widgets/controls",
      "_view_module_version": "1.5.0",
      "_view_name": "HTMLView",
      "description": "",
      "description_tooltip": null,
      "layout": "IPY_MODEL_9b46176d7f494c30928f56961eff54c7",
      "placeholder": "​",
      "style": "IPY_MODEL_cdd21b6a66f44be3aa62678b852f19da",
      "value": " 1000/1000 [00:08&lt;00:00, 74.61it/s]"
     }
    },
    "c8f5d373e1dc44b69113e43e6b6d33da": {
     "model_module": "@jupyter-widgets/base",
     "model_module_version": "1.2.0",
     "model_name": "LayoutModel",
     "state": {
      "_model_module": "@jupyter-widgets/base",
      "_model_module_version": "1.2.0",
      "_model_name": "LayoutModel",
      "_view_count": null,
      "_view_module": "@jupyter-widgets/base",
      "_view_module_version": "1.2.0",
      "_view_name": "LayoutView",
      "align_content": null,
      "align_items": null,
      "align_self": null,
      "border": null,
      "bottom": null,
      "display": null,
      "flex": null,
      "flex_flow": null,
      "grid_area": null,
      "grid_auto_columns": null,
      "grid_auto_flow": null,
      "grid_auto_rows": null,
      "grid_column": null,
      "grid_gap": null,
      "grid_row": null,
      "grid_template_areas": null,
      "grid_template_columns": null,
      "grid_template_rows": null,
      "height": null,
      "justify_content": null,
      "justify_items": null,
      "left": null,
      "margin": null,
      "max_height": null,
      "max_width": null,
      "min_height": null,
      "min_width": null,
      "object_fit": null,
      "object_position": null,
      "order": null,
      "overflow": null,
      "overflow_x": null,
      "overflow_y": null,
      "padding": null,
      "right": null,
      "top": null,
      "visibility": null,
      "width": null
     }
    },
    "cbfc3894fa93462094c920064eab9592": {
     "model_module": "@jupyter-widgets/base",
     "model_module_version": "1.2.0",
     "model_name": "LayoutModel",
     "state": {
      "_model_module": "@jupyter-widgets/base",
      "_model_module_version": "1.2.0",
      "_model_name": "LayoutModel",
      "_view_count": null,
      "_view_module": "@jupyter-widgets/base",
      "_view_module_version": "1.2.0",
      "_view_name": "LayoutView",
      "align_content": null,
      "align_items": null,
      "align_self": null,
      "border": null,
      "bottom": null,
      "display": null,
      "flex": null,
      "flex_flow": null,
      "grid_area": null,
      "grid_auto_columns": null,
      "grid_auto_flow": null,
      "grid_auto_rows": null,
      "grid_column": null,
      "grid_gap": null,
      "grid_row": null,
      "grid_template_areas": null,
      "grid_template_columns": null,
      "grid_template_rows": null,
      "height": null,
      "justify_content": null,
      "justify_items": null,
      "left": null,
      "margin": null,
      "max_height": null,
      "max_width": null,
      "min_height": null,
      "min_width": null,
      "object_fit": null,
      "object_position": null,
      "order": null,
      "overflow": null,
      "overflow_x": null,
      "overflow_y": null,
      "padding": null,
      "right": null,
      "top": null,
      "visibility": null,
      "width": null
     }
    },
    "cdd21b6a66f44be3aa62678b852f19da": {
     "model_module": "@jupyter-widgets/controls",
     "model_module_version": "1.5.0",
     "model_name": "DescriptionStyleModel",
     "state": {
      "_model_module": "@jupyter-widgets/controls",
      "_model_module_version": "1.5.0",
      "_model_name": "DescriptionStyleModel",
      "_view_count": null,
      "_view_module": "@jupyter-widgets/base",
      "_view_module_version": "1.2.0",
      "_view_name": "StyleView",
      "description_width": ""
     }
    },
    "d6605149a467450886f538e9c53e2579": {
     "model_module": "@jupyter-widgets/base",
     "model_module_version": "1.2.0",
     "model_name": "LayoutModel",
     "state": {
      "_model_module": "@jupyter-widgets/base",
      "_model_module_version": "1.2.0",
      "_model_name": "LayoutModel",
      "_view_count": null,
      "_view_module": "@jupyter-widgets/base",
      "_view_module_version": "1.2.0",
      "_view_name": "LayoutView",
      "align_content": null,
      "align_items": null,
      "align_self": null,
      "border": null,
      "bottom": null,
      "display": null,
      "flex": null,
      "flex_flow": null,
      "grid_area": null,
      "grid_auto_columns": null,
      "grid_auto_flow": null,
      "grid_auto_rows": null,
      "grid_column": null,
      "grid_gap": null,
      "grid_row": null,
      "grid_template_areas": null,
      "grid_template_columns": null,
      "grid_template_rows": null,
      "height": null,
      "justify_content": null,
      "justify_items": null,
      "left": null,
      "margin": null,
      "max_height": null,
      "max_width": null,
      "min_height": null,
      "min_width": null,
      "object_fit": null,
      "object_position": null,
      "order": null,
      "overflow": null,
      "overflow_x": null,
      "overflow_y": null,
      "padding": null,
      "right": null,
      "top": null,
      "visibility": null,
      "width": null
     }
    },
    "e84aff33e07143a397e0a09cbdcb94a5": {
     "model_module": "@jupyter-widgets/base",
     "model_module_version": "1.2.0",
     "model_name": "LayoutModel",
     "state": {
      "_model_module": "@jupyter-widgets/base",
      "_model_module_version": "1.2.0",
      "_model_name": "LayoutModel",
      "_view_count": null,
      "_view_module": "@jupyter-widgets/base",
      "_view_module_version": "1.2.0",
      "_view_name": "LayoutView",
      "align_content": null,
      "align_items": null,
      "align_self": null,
      "border": null,
      "bottom": null,
      "display": null,
      "flex": null,
      "flex_flow": null,
      "grid_area": null,
      "grid_auto_columns": null,
      "grid_auto_flow": null,
      "grid_auto_rows": null,
      "grid_column": null,
      "grid_gap": null,
      "grid_row": null,
      "grid_template_areas": null,
      "grid_template_columns": null,
      "grid_template_rows": null,
      "height": null,
      "justify_content": null,
      "justify_items": null,
      "left": null,
      "margin": null,
      "max_height": null,
      "max_width": null,
      "min_height": null,
      "min_width": null,
      "object_fit": null,
      "object_position": null,
      "order": null,
      "overflow": null,
      "overflow_x": null,
      "overflow_y": null,
      "padding": null,
      "right": null,
      "top": null,
      "visibility": null,
      "width": null
     }
    },
    "f80b2ebe44424dc9ace7b4e2af6a170a": {
     "model_module": "@jupyter-widgets/base",
     "model_module_version": "1.2.0",
     "model_name": "LayoutModel",
     "state": {
      "_model_module": "@jupyter-widgets/base",
      "_model_module_version": "1.2.0",
      "_model_name": "LayoutModel",
      "_view_count": null,
      "_view_module": "@jupyter-widgets/base",
      "_view_module_version": "1.2.0",
      "_view_name": "LayoutView",
      "align_content": null,
      "align_items": null,
      "align_self": null,
      "border": null,
      "bottom": null,
      "display": null,
      "flex": null,
      "flex_flow": null,
      "grid_area": null,
      "grid_auto_columns": null,
      "grid_auto_flow": null,
      "grid_auto_rows": null,
      "grid_column": null,
      "grid_gap": null,
      "grid_row": null,
      "grid_template_areas": null,
      "grid_template_columns": null,
      "grid_template_rows": null,
      "height": null,
      "justify_content": null,
      "justify_items": null,
      "left": null,
      "margin": null,
      "max_height": null,
      "max_width": null,
      "min_height": null,
      "min_width": null,
      "object_fit": null,
      "object_position": null,
      "order": null,
      "overflow": null,
      "overflow_x": null,
      "overflow_y": null,
      "padding": null,
      "right": null,
      "top": null,
      "visibility": null,
      "width": null
     }
    }
   }
  }
 },
 "nbformat": 4,
 "nbformat_minor": 0
}
