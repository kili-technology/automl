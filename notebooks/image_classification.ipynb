{
  "cells": [
    {
      "cell_type": "markdown",
      "metadata": {
        "id": "view-in-github"
      },
      "source": [
        "<a href=\"https://colab.research.google.com/github/kili-technology/automl/blob/main/notebooks/image_classification.ipynb\" target=\"_parent\"><img src=\"https://colab.research.google.com/assets/colab-badge.svg\" alt=\"Open In Colab\"/></a>"
      ]
    },
    {
      "cell_type": "markdown",
      "metadata": {
        "id": "zYG5RYRUBaA7"
      },
      "source": [
        "# Image Classification Using AutoML"
      ]
    },
    {
      "cell_type": "markdown",
      "metadata": {
        "id": "GpmLGl2pBaA_"
      },
      "source": [
        "In this notebook, we will see how we can simply create an image classification model with AutoML to pre-annotate our dataset on the [Kili Platform](https://cloud.kili-technology.com/label/)."
      ]
    },
    {
      "cell_type": "markdown",
      "metadata": {
        "id": "6_kojOrztpE2"
      },
      "source": [
        "## Setup API key"
      ]
    },
    {
      "cell_type": "markdown",
      "metadata": {
        "id": "0lm6T9E0tpE2"
      },
      "source": [
        "We first setup the api key and automl path."
      ]
    },
    {
      "cell_type": "code",
      "execution_count": 2,
      "metadata": {
        "id": "DR9r_Zv6tpE2"
      },
      "outputs": [],
      "source": [
        "from getpass import getpass"
      ]
    },
    {
      "cell_type": "markdown",
      "metadata": {
        "id": "0gt5ToQKtpE4"
      },
      "source": [
        "You can get your API key from the Kili platform and setup your environment variables."
      ]
    },
    {
      "cell_type": "code",
      "execution_count": 3,
      "metadata": {
        "id": "VAR3u1wZBaBI"
      },
      "outputs": [],
      "source": [
        "KILI_URL=\"https://cloud.kili-technology.com/\"  # If you are not using Kili SaaS, change the url to your configuration\n",
        "\n",
        "api_key = getpass(\"Add your API Key here: \")\n",
        "api_endpoint = f\"{KILI_URL}api/label/v2/graphql\""
      ]
    },
    {
      "cell_type": "markdown",
      "metadata": {
        "id": "yiOPTlRG5tXV"
      },
      "source": [
        "Set Python path if notebook is used on Colab."
      ]
    },
    {
      "cell_type": "code",
      "execution_count": 1,
      "metadata": {
        "id": "ofVZXIa35nq7"
      },
      "outputs": [],
      "source": [
        "from IPython import get_ipython\n",
        "import os\n",
        "\n",
        "if 'google.colab' in str(get_ipython()):\n",
        "    os.environ[\"PYTHONPATH\"] += \":/content/automl/\""
      ]
    },
    {
      "cell_type": "markdown",
      "metadata": {
        "id": "KrezIAheBaBA"
      },
      "source": [
        "## Install"
      ]
    },
    {
      "cell_type": "markdown",
      "metadata": {
        "id": "8_zB5lXPBaBA"
      },
      "source": [
        "We will follow the install procedure explained in the [README.md](https://github.com/kili-technology/automl/blob/main/README.md). "
      ]
    },
    {
      "cell_type": "code",
      "execution_count": null,
      "metadata": {
        "id": "n7gjiRZhBaBD"
      },
      "outputs": [],
      "source": [
        "!git clone https://github.com/kili-technology/automl.git"
      ]
    },
    {
      "cell_type": "code",
      "execution_count": null,
      "metadata": {
        "id": "myizMhqQBaBE"
      },
      "outputs": [],
      "source": [
        "%cd automl"
      ]
    },
    {
      "cell_type": "markdown",
      "metadata": {
        "id": "W0B2Ew9opfdW"
      },
      "source": [
        "Install the packages. This should take less than a minute. "
      ]
    },
    {
      "cell_type": "code",
      "execution_count": null,
      "metadata": {
        "id": "S3KdozTHBaBE"
      },
      "outputs": [],
      "source": [
        "%%capture\n",
        "!git submodule update --init\n",
        "!pip install torch && pip install -e ."
      ]
    },
    {
      "cell_type": "markdown",
      "metadata": {
        "id": "sUgY-iz6BaBI"
      },
      "source": [
        "## Imports"
      ]
    },
    {
      "cell_type": "code",
      "execution_count": null,
      "metadata": {
        "id": "y3u_I9GABaBJ"
      },
      "outputs": [],
      "source": [
        "from tqdm.autonotebook import tqdm\n",
        "\n",
        "from kili.client import Kili"
      ]
    },
    {
      "cell_type": "markdown",
      "metadata": {
        "id": "5sxrmNqCBaBJ"
      },
      "source": [
        "## Setup a mock Kili project"
      ]
    },
    {
      "cell_type": "markdown",
      "metadata": {
        "id": "mM-vWnpFBaBK"
      },
      "source": [
        "Setup the kili connection."
      ]
    },
    {
      "cell_type": "code",
      "execution_count": null,
      "metadata": {
        "id": "3piQsuK-BaBK"
      },
      "outputs": [],
      "source": [
        "kili = Kili(api_key=api_key, api_endpoint=api_endpoint)"
      ]
    },
    {
      "cell_type": "markdown",
      "metadata": {
        "id": "pz8CpvSriJJs"
      },
      "source": [
        "### Create the project"
      ]
    },
    {
      "cell_type": "code",
      "execution_count": null,
      "metadata": {
        "id": "qua2QqZiBaBL"
      },
      "outputs": [],
      "source": [
        "json_interface = {\n",
        "    \"jobRendererWidth\": 0.2,\n",
        "    \"jobs\": {\n",
        "        \"CLASSIFICATION_JOB\": {\n",
        "            \"mlTask\": \"CLASSIFICATION\",\n",
        "            \"content\": {\n",
        "                \"categories\": {\n",
        "                    \"VEHICLE\": {\n",
        "                        \"name\": \"vehicle\"\n",
        "                    },\n",
        "                    \"NON_VEHICLE\": {\n",
        "                        \"name\": \"non vehicle\"\n",
        "                    }\n",
        "                },\n",
        "                \"input\": \"radio\"\n",
        "            },\n",
        "            \"required\": 0,\n",
        "            \"isChild\": False,\n",
        "            \"instruction\": \"Class of vehicle presence\"\n",
        "        }\n",
        "    }\n",
        "}"
      ]
    },
    {
      "cell_type": "code",
      "execution_count": null,
      "metadata": {
        "id": "aHEB9NF5BaBL"
      },
      "outputs": [],
      "source": [
        "project = kili.create_project(\n",
        "    title=\"AutoML demo - Image Classification: Vehicle Classification\",\n",
        "    description=\"Classify vehicle presence\",\n",
        "    input_type=\"IMAGE\",\n",
        "    json_interface=json_interface\n",
        ")"
      ]
    },
    {
      "cell_type": "code",
      "execution_count": null,
      "metadata": {
        "id": "erooB2KrtpE-"
      },
      "outputs": [],
      "source": [
        "project_id = project[\"id\"]"
      ]
    },
    {
      "cell_type": "markdown",
      "metadata": {
        "id": "OnFCYRs0fxU-"
      },
      "source": [
        "### Add assets"
      ]
    },
    {
      "cell_type": "code",
      "execution_count": null,
      "metadata": {
        "id": "gdBqgt3cBaBK"
      },
      "outputs": [],
      "source": [
        "vehicle_assets = [\n",
        "    {\n",
        "        \"externalId\": f\"{i}\",\n",
        "        \"content\": f\"https://storage.googleapis.com/kili-machine-learning-automl/notebooks/vehicle_classification/vehicles/image_{i}.png\",\n",
        "        \"metadata\": {}\n",
        "    }\n",
        "    for i in range(500)\n",
        "]\n",
        "non_vehicle_assets = [\n",
        "    {\n",
        "        \"externalId\": f\"{len(vehicle_assets) + i}\",\n",
        "        \"content\": f\"https://storage.googleapis.com/kili-machine-learning-automl/notebooks/vehicle_classification/non-vehicles/image_{i}.png\",\n",
        "        \"metadata\": {}\n",
        "    }\n",
        "    for i in range(500)\n",
        "]\n",
        "assets_to_import = vehicle_assets + non_vehicle_assets"
      ]
    },
    {
      "cell_type": "markdown",
      "metadata": {
        "id": "V0rJ5DUcBaBL"
      },
      "source": [
        "Now we send the data to our Kili project."
      ]
    },
    {
      "cell_type": "code",
      "execution_count": null,
      "metadata": {
        "id": "j6eKQeZ6fzOG"
      },
      "outputs": [],
      "source": [
        "external_id_array = [a.get(\"externalId\") for a in assets_to_import]\n",
        "content_array = [a.get(\"content\") for a in assets_to_import]\n",
        "json_metadata_array = [a.get(\"metadata\") for a in assets_to_import]\n",
        "kili.append_many_to_dataset(project_id=project_id, \n",
        "                            content_array=content_array,\n",
        "                            external_id_array=external_id_array, \n",
        "                            json_metadata_array=json_metadata_array)"
      ]
    },
    {
      "cell_type": "markdown",
      "metadata": {
        "id": "IhfaOkxrBaBM"
      },
      "source": [
        "### Add labels to assets"
      ]
    },
    {
      "cell_type": "markdown",
      "metadata": {
        "id": "L2tIiWEPHTo4"
      },
      "source": [
        "We add labels to half of the data to simulate a project where we haven't labeled much data and we want to predict the labels of the unlabeled data. "
      ]
    },
    {
      "cell_type": "code",
      "execution_count": null,
      "metadata": {
        "id": "2L6UIq93BaBM"
      },
      "outputs": [],
      "source": [
        "asset_ids = kili.assets(project_id=project_id, fields=[\"id\", \"externalId\"], first=1000)\n",
        "\n",
        "for asset_id in tqdm(asset_ids):\n",
        "    external_id = int(asset_id[\"externalId\"])\n",
        "    if external_id < 300:\n",
        "        kili.append_to_labels(label_asset_id=asset_id[\"id\"],\n",
        "                              json_response={\n",
        "                                  \"CLASSIFICATION_JOB\": {\n",
        "                                      \"categories\": [{\"name\": \"VEHICLE\"}]\n",
        "                                  }\n",
        "                              })\n",
        "\n",
        "    elif 499 < external_id < 800:\n",
        "        kili.append_to_labels(label_asset_id=asset_id[\"id\"],\n",
        "                              json_response={\n",
        "                                  \"CLASSIFICATION_JOB\": {\n",
        "                                      \"categories\": [{\"name\": \"NON_VEHICLE\"}]\n",
        "                                  }\n",
        "                              })\n",
        "    else:\n",
        "        pass"
      ]
    },
    {
      "cell_type": "markdown",
      "metadata": {
        "id": "dd3qerFeO7Rt"
      },
      "source": [
        "You can now click on the following link to see the assets in your project:"
      ]
    },
    {
      "cell_type": "code",
      "execution_count": null,
      "metadata": {
        "id": "r31azkPdO66e"
      },
      "outputs": [],
      "source": [
        "print(f\"{KILI_URL}label/projects/{project_id}/menu/queue?currentPage=1&pageSize=20\")"
      ]
    },
    {
      "cell_type": "markdown",
      "metadata": {
        "id": "0tOtfBaABaBN"
      },
      "source": [
        "## Training a image classifier with Kiliautoml"
      ]
    },
    {
      "cell_type": "markdown",
      "metadata": {
        "id": "iqfddWnUG_R1"
      },
      "source": [
        "The following command will automatically download the labeled data in your Kili project. Then, it will choose the right model for your task, train it with this data and save it locally."
      ]
    },
    {
      "cell_type": "code",
      "execution_count": null,
      "metadata": {
        "id": "-uwLPjF9BaBN"
      },
      "outputs": [],
      "source": [
        "!kiliautoml train \\\n",
        "    --api-key $api_key \\\n",
        "    --project-id $project_id \\\n",
        "    --epochs 30"
      ]
    },
    {
      "cell_type": "markdown",
      "metadata": {
        "id": "fda-qEzgBaBN"
      },
      "source": [
        "### Send predictions"
      ]
    },
    {
      "cell_type": "markdown",
      "metadata": {
        "id": "jMdUHgsOqQS_"
      },
      "source": [
        "Now we can use our local trained model to predict the classes of our image assets and send the prediction scores to the project on Kili. These preannotations can then be validated or corrected by annotators."
      ]
    },
    {
      "cell_type": "code",
      "execution_count": null,
      "metadata": {
        "id": "lud1i-v9BaBN"
      },
      "outputs": [],
      "source": [
        "!kiliautoml predict \\\n",
        "    --api-key $api_key \\\n",
        "    --project-id $project_id"
      ]
    },
    {
      "cell_type": "markdown",
      "metadata": {
        "id": "fyPzfujpqiXv"
      },
      "source": [
        "Now you can ckeck that your assets have predictions on [Kili](https://cloud.kili-technology.com/)!"
      ]
    },
    {
      "cell_type": "code",
      "execution_count": null,
      "metadata": {
        "id": "sgH92N1CLn55"
      },
      "outputs": [],
      "source": [
        "print(f\"{KILI_URL}label/projects/{project_id}/menu/queue?currentPage=1&pageSize=20\")"
      ]
    },
    {
      "cell_type": "markdown",
      "metadata": {
        "id": "dBIYa5GVBaBN"
      },
      "source": [
        "### Label Errors"
      ]
    },
    {
      "cell_type": "markdown",
      "metadata": {
        "id": "F-bjSezE_iGi"
      },
      "source": [
        "You can add wrong labels to a small portion of the data to simulate a project where some data is incorrectly labeled. \n"
      ]
    },
    {
      "cell_type": "code",
      "execution_count": null,
      "metadata": {
        "id": "ja5jAvzd_iGi"
      },
      "outputs": [],
      "source": [
        "asset_ids = kili.assets(project_id=project_id, fields=[\"id\", \"externalId\"])\n",
        "\n",
        "for asset_id in tqdm(asset_ids):\n",
        "    external_id = int(asset_id[\"externalId\"])\n",
        "    if 299 < external_id < 310:\n",
        "        kili.append_to_labels(label_asset_id=asset_id[\"id\"],\n",
        "                              json_response={\n",
        "                                  \"CLASSIFICATION_JOB\": {\n",
        "                                      \"categories\": [{\"name\": \"NON_VEHICLE\"}]\n",
        "                                  }\n",
        "                              })\n",
        "\n",
        "    elif 799 < external_id < 810:\n",
        "        kili.append_to_labels(label_asset_id=asset_id[\"id\"],\n",
        "                              json_response={\n",
        "                                  \"CLASSIFICATION_JOB\": {\n",
        "                                      \"categories\": [{\"name\": \"VEHICLE\"}]\n",
        "                                  }\n",
        "                              })\n",
        "    else:\n",
        "        pass"
      ]
    },
    {
      "cell_type": "markdown",
      "metadata": {
        "id": "TVlA4PaLrjO0"
      },
      "source": [
        "This command analyses the labeled data to detect potential labeling errors and sends warnings to the concerned assets. The user can then use the `potential_label_error` filter on the project's asset exploration to find the potentially problematic assets."
      ]
    },
    {
      "cell_type": "code",
      "execution_count": null,
      "metadata": {
        "id": "EFW4cfEHBaBN"
      },
      "outputs": [],
      "source": [
        "!kiliautoml label_errors \\\n",
        "    --api-key $api_key \\\n",
        "    --project-id $project_id"
      ]
    },
    {
      "cell_type": "markdown",
      "metadata": {
        "id": "_7xofUWD_iGj"
      },
      "source": [
        "You can see in the project that several uncorrectly labeled images have been spotted."
      ]
    },
    {
      "cell_type": "code",
      "execution_count": null,
      "metadata": {
        "id": "LLYUoSQdPzkr"
      },
      "outputs": [],
      "source": [
        "print(f\"{KILI_URL}label/projects/{project_id}/menu/queue?currentPage=1&metadata%5Blabeling_error%5D=true&pageSize=20\")"
      ]
    }
  ],
  "metadata": {
    "accelerator": "GPU",
    "colab": {
      "name": "Copie de image_classification.ipynb",
      "provenance": []
    },
    "gpuClass": "standard",
    "interpreter": {
      "hash": "449e565a27a23acd15c32e769a07661ae193905e7f288056cccc0b6a403de553"
    },
    "kernelspec": {
      "display_name": "Python 3.9.12 ('automl')",
      "language": "python",
      "name": "python3"
    },
    "language_info": {
      "codemirror_mode": {
        "name": "ipython",
        "version": 3
      },
      "file_extension": ".py",
      "mimetype": "text/x-python",
      "name": "python",
      "nbconvert_exporter": "python",
      "pygments_lexer": "ipython3",
      "version": "3.7.13"
    }
  },
  "nbformat": 4,
  "nbformat_minor": 0
}
